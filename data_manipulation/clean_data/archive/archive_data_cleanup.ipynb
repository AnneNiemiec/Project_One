{
 "metadata": {
  "language_info": {
   "codemirror_mode": {
    "name": "ipython",
    "version": 3
   },
   "file_extension": ".py",
   "mimetype": "text/x-python",
   "name": "python",
   "nbconvert_exporter": "python",
   "pygments_lexer": "ipython3",
   "version": "3.7.9"
  },
  "orig_nbformat": 2,
  "kernelspec": {
   "name": "python379jvsc74a57bd0972b5e8961cf972370136eb15a5ce67c848ddf5ca1c37bd5b3d0153e753bc276",
   "display_name": "Python 3.7.9 64-bit ('PythonData': conda)"
  }
 },
 "nbformat": 4,
 "nbformat_minor": 2,
 "cells": [
  {
   "source": [
    "# Covid-19 Vaccine Allocations and Case Counts Analysis\n",
    "----\n",
    "\n",
    "Written in the Python 3.7.9 Environment\n",
    "\n",
    "By Tarak Patel, Nicole Lund and Anne Niemiec.\n",
    "\n",
    "Common Jupyter cells have been notated for ease of merging after individuals their analysis.\n",
    "\n",
    "Individual working files will be merged using https://pypi.org/project/nbmerge/"
   ],
   "cell_type": "markdown",
   "metadata": {}
  },
  {
   "cell_type": "code",
   "execution_count": 2,
   "metadata": {},
   "outputs": [],
   "source": [
    "### This is a common Jupyter Cell.  Do not modify without coordination. ###\n",
    "\n",
    "# Load Dependencies\n",
    "\n",
    "# Data Organization & Collection\n",
    "import pandas as pd\n",
    "import requests\n",
    "import json\n",
    "from census import Census\n",
    "\n",
    "# Data Visualization & Analysis\n",
    "import matplotlib.pyplot as plt\n",
    "import numpy as np\n",
    "import scipy.stats as st\n",
    "import gmaps\n",
    "\n",
    "# General Navigation\n",
    "import time\n",
    "import os\n",
    "import sys"
   ]
  },
  {
   "cell_type": "code",
   "execution_count": 3,
   "metadata": {},
   "outputs": [],
   "source": [
    "# Define users api key file folder location\n",
    "api_key_path = r\"C:\\Users\\nlund\\Documents\\GitHub\\untracked_files\""
   ]
  },
  {
   "cell_type": "code",
   "execution_count": 4,
   "metadata": {},
   "outputs": [],
   "source": [
    "### This is a common Jupyter Cell.  Do not modify without coordination. ###\n",
    "\n",
    "# Add API key file to system path\n",
    "sys.path.append(api_key_path)\n",
    "\n",
    "# Import Census API Key\n",
    "from untracked_api_keys import census_key\n",
    "c = Census(census_key, year=2019)\n",
    "\n",
    "# Import Google API key\n",
    "from untracked_api_keys import g_key"
   ]
  },
  {
   "source": [
    "# Define function for calculating the number of days since the beginning of Vaccine rollout"
   ],
   "cell_type": "markdown",
   "metadata": {}
  },
  {
   "cell_type": "code",
   "execution_count": 84,
   "metadata": {},
   "outputs": [],
   "source": [
    "from datetime import datetime\n",
    "\n",
    "def get_day_nums(dates,format):\n",
    "    day_nums = []\n",
    "    start_date = datetime.strptime('12/14/2020', \"%m/%d/%Y\")\n",
    "    for day in dates:\n",
    "        end_date = datetime.strptime(day, format)\n",
    "        duration = end_date - start_date\n",
    "        day_nums.append(duration.days)\n",
    "    return day_nums"
   ]
  },
  {
   "source": [
    "# Load all input data files into DataFrames"
   ],
   "cell_type": "markdown",
   "metadata": {}
  },
  {
   "cell_type": "code",
   "execution_count": 6,
   "metadata": {},
   "outputs": [],
   "source": [
    "# Create File Path for input files. \n",
    "csv_pfe =  'source_data/COVID-19_Vaccine_Distribution_Allocations_by_Jurisdiction_-_Pfizer.csv'\n",
    "csv_mrna = 'source_data/COVID-19_Vaccine_Distribution_Allocations_by_Jurisdiction_-_Moderna.csv'\n",
    "csv_jnj =  'source_data/COVID-19_Vaccine_Distribution_Allocations_by_Jurisdiction_-_Janssen.csv'\n",
    "csv_c_d =  'source_data/United_States_COVID-19_Cases_and_Deaths_by_State_over_Time.csv'\n",
    "state_code = 'source_data/state_code.csv'\n",
    "csv_administered = 'source_data/us-daily-covid-vaccine-doses-administered.csv'\n",
    "\n",
    "# Create a dataframe for each file.\n",
    "pfe_df = pd.read_csv(csv_pfe)\n",
    "mrna_df = pd.read_csv(csv_mrna)\n",
    "jnj_df = pd.read_csv(csv_jnj)\n",
    "c_d_df = pd.read_csv(csv_c_d)\n",
    "state_code_df = pd.read_csv(state_code)\n",
    "administered_df = pd.read_csv(csv_administered)"
   ]
  },
  {
   "source": [
    "# Prepare state code file for merges"
   ],
   "cell_type": "markdown",
   "metadata": {}
  },
  {
   "cell_type": "code",
   "execution_count": 50,
   "metadata": {},
   "outputs": [
    {
     "output_type": "execute_result",
     "data": {
      "text/plain": [
       "  state_name state_code\n",
       "0    Alabama         AL\n",
       "1     Alaska         AK\n",
       "2    Arizona         AZ"
      ],
      "text/html": "<div>\n<style scoped>\n    .dataframe tbody tr th:only-of-type {\n        vertical-align: middle;\n    }\n\n    .dataframe tbody tr th {\n        vertical-align: top;\n    }\n\n    .dataframe thead th {\n        text-align: right;\n    }\n</style>\n<table border=\"1\" class=\"dataframe\">\n  <thead>\n    <tr style=\"text-align: right;\">\n      <th></th>\n      <th>state_name</th>\n      <th>state_code</th>\n    </tr>\n  </thead>\n  <tbody>\n    <tr>\n      <th>0</th>\n      <td>Alabama</td>\n      <td>AL</td>\n    </tr>\n    <tr>\n      <th>1</th>\n      <td>Alaska</td>\n      <td>AK</td>\n    </tr>\n    <tr>\n      <th>2</th>\n      <td>Arizona</td>\n      <td>AZ</td>\n    </tr>\n  </tbody>\n</table>\n</div>"
     },
     "metadata": {},
     "execution_count": 50
    }
   ],
   "source": [
    "state_code_df = state_code_df.rename(columns={'Postal Code': 'state_code',\n",
    "                                              'State/District': 'state_name'\n",
    "                                             })\n",
    "state_code_df = state_code_df[['state_name','state_code']]\n",
    "state_code_df.head(3)"
   ]
  },
  {
   "source": [
    "# Create Vaccine Distribution Allocation DataFrame\n",
    "\n",
    "Merge Pfizer, Moderna and Johnson & Johnson DataFrames\n",
    "\n",
    "Merge state postal code\n",
    "\n",
    "Calculate day_num from the date and add to DataFrame\n",
    "\n",
    "Reorder columns"
   ],
   "cell_type": "markdown",
   "metadata": {}
  },
  {
   "cell_type": "code",
   "execution_count": 85,
   "metadata": {},
   "outputs": [
    {
     "output_type": "execute_result",
     "data": {
      "text/plain": [
       "      state_name state_code        date  day_num  pfe_dose_1  pfe_dose_2  \\\n",
       "0    Connecticut         CT  04/19/2021      126       54990       54990   \n",
       "1          Maine         ME  04/19/2021      126       21060       21060   \n",
       "2  Massachusetts         MA  04/19/2021      126      105300      105300   \n",
       "\n",
       "   mrna_dose_1  mrna_dose_2  jnj_dose_1  \n",
       "0      40400.0      40400.0         0.0  \n",
       "1      15400.0      15400.0         0.0  \n",
       "2      77700.0      77700.0         0.0  "
      ],
      "text/html": "<div>\n<style scoped>\n    .dataframe tbody tr th:only-of-type {\n        vertical-align: middle;\n    }\n\n    .dataframe tbody tr th {\n        vertical-align: top;\n    }\n\n    .dataframe thead th {\n        text-align: right;\n    }\n</style>\n<table border=\"1\" class=\"dataframe\">\n  <thead>\n    <tr style=\"text-align: right;\">\n      <th></th>\n      <th>state_name</th>\n      <th>state_code</th>\n      <th>date</th>\n      <th>day_num</th>\n      <th>pfe_dose_1</th>\n      <th>pfe_dose_2</th>\n      <th>mrna_dose_1</th>\n      <th>mrna_dose_2</th>\n      <th>jnj_dose_1</th>\n    </tr>\n  </thead>\n  <tbody>\n    <tr>\n      <th>0</th>\n      <td>Connecticut</td>\n      <td>CT</td>\n      <td>04/19/2021</td>\n      <td>126</td>\n      <td>54990</td>\n      <td>54990</td>\n      <td>40400.0</td>\n      <td>40400.0</td>\n      <td>0.0</td>\n    </tr>\n    <tr>\n      <th>1</th>\n      <td>Maine</td>\n      <td>ME</td>\n      <td>04/19/2021</td>\n      <td>126</td>\n      <td>21060</td>\n      <td>21060</td>\n      <td>15400.0</td>\n      <td>15400.0</td>\n      <td>0.0</td>\n    </tr>\n    <tr>\n      <th>2</th>\n      <td>Massachusetts</td>\n      <td>MA</td>\n      <td>04/19/2021</td>\n      <td>126</td>\n      <td>105300</td>\n      <td>105300</td>\n      <td>77700.0</td>\n      <td>77700.0</td>\n      <td>0.0</td>\n    </tr>\n  </tbody>\n</table>\n</div>"
     },
     "metadata": {},
     "execution_count": 85
    }
   ],
   "source": [
    "# Merge pfe and mrna datframe\n",
    "pfe_mrna = pd.merge(pfe_df, mrna_df, on=['Jurisdiction', 'Week of Allocations'], how='outer')\n",
    "pfe_mrna\n",
    "\n",
    "pfe_mrna_jnj = pd.merge(pfe_mrna, jnj_df, on=['Jurisdiction', 'Week of Allocations'], how='outer')\n",
    "pfe_mrna_jnj\n",
    "\n",
    "# Rename Columns in the DataFrame and Fill all the NaN with Zero to work with the data\n",
    "all_vaccines_df = pfe_mrna_jnj.rename(columns={ 'Jurisdiction': 'state_name',\n",
    "                                                   'Week of Allocations': 'date',\n",
    "                                                   '1st Dose Allocations_x': 'pfe_dose_1',\n",
    "                                                   '2nd Dose Allocations_x': 'pfe_dose_2',\n",
    "                                                   '1st Dose Allocations_y': 'mrna_dose_1',\n",
    "                                                   '2nd Dose Allocations_y': 'mrna_dose_2',\n",
    "                                                   '1st Dose Allocations': 'jnj_dose_1'\n",
    "                                                   }).fillna(0)\n",
    "\n",
    "# Merge state_code into the DataFrame\n",
    "vaccine_w_state_df = pd.merge(all_vaccines_df,state_code_df,on=['state_name'],how='left')\n",
    "\n",
    "# Convert date to day_num after 12/14/2020 and add to DataFrame\n",
    "day_nums = get_day_nums(vaccine_w_state_df.date.tolist(),\"%m/%d/%Y\")\n",
    "vaccine_w_state_df['day_num'] = day_nums\n",
    "\n",
    "# Reorder columns\n",
    "Combined_Vaccine_df = vaccine_w_state_df[['state_name','state_code','date','day_num','pfe_dose_1','pfe_dose_2','mrna_dose_1','mrna_dose_2','jnj_dose_1']]\n",
    "\n",
    "# Export DataFrame to csv\n",
    "Combined_Vaccine_df.to_csv('clean_data/Combined_Vaccine_df.csv')\n",
    "\n",
    "# Display DataFrame\n",
    "Combined_Vaccine_df.head(3)"
   ]
  },
  {
   "source": [],
   "cell_type": "markdown",
   "metadata": {}
  },
  {
   "source": [
    "# Create Administered Vaccine DataFrame\n",
    "\n",
    "Merge state name\n",
    "\n",
    "Calculate day_num from the date and add to DataFrame\n",
    "\n",
    "Reorder columns"
   ],
   "cell_type": "markdown",
   "metadata": {}
  },
  {
   "cell_type": "code",
   "execution_count": 87,
   "metadata": {},
   "outputs": [
    {
     "output_type": "execute_result",
     "data": {
      "text/plain": [
       "  state_name state_code        date  day_num  daily_vaccinations\n",
       "0    Alabama         AL  2021-01-13       30                5906\n",
       "1    Alabama         AL  2021-01-14       31                7083\n",
       "2    Alabama         AL  2021-01-15       32                7478"
      ],
      "text/html": "<div>\n<style scoped>\n    .dataframe tbody tr th:only-of-type {\n        vertical-align: middle;\n    }\n\n    .dataframe tbody tr th {\n        vertical-align: top;\n    }\n\n    .dataframe thead th {\n        text-align: right;\n    }\n</style>\n<table border=\"1\" class=\"dataframe\">\n  <thead>\n    <tr style=\"text-align: right;\">\n      <th></th>\n      <th>state_name</th>\n      <th>state_code</th>\n      <th>date</th>\n      <th>day_num</th>\n      <th>daily_vaccinations</th>\n    </tr>\n  </thead>\n  <tbody>\n    <tr>\n      <th>0</th>\n      <td>Alabama</td>\n      <td>AL</td>\n      <td>2021-01-13</td>\n      <td>30</td>\n      <td>5906</td>\n    </tr>\n    <tr>\n      <th>1</th>\n      <td>Alabama</td>\n      <td>AL</td>\n      <td>2021-01-14</td>\n      <td>31</td>\n      <td>7083</td>\n    </tr>\n    <tr>\n      <th>2</th>\n      <td>Alabama</td>\n      <td>AL</td>\n      <td>2021-01-15</td>\n      <td>32</td>\n      <td>7478</td>\n    </tr>\n  </tbody>\n</table>\n</div>"
     },
     "metadata": {},
     "execution_count": 87
    }
   ],
   "source": [
    "# Rename columns\n",
    "administered_df = administered_df.rename(columns={'Day': 'date',\n",
    "                                                  'Entity': 'state_name'\n",
    "                                                 })\n",
    "\n",
    "# Merge in state code\n",
    "administered_w_state_df = pd.merge(administered_df,state_code_df,on=['state_name'],how='left')\n",
    "\n",
    "# Convert date to day_num after 12/14/2020 and add to DataFrame\n",
    "day_nums = get_day_nums(administered_w_state_df.date.tolist(),\"%Y-%m-%d\")\n",
    "administered_w_state_df['day_num'] = day_nums\n",
    "\n",
    "# Reorder columns\n",
    "Vaccines_Administered_df = administered_w_state_df[['state_name','state_code','date','day_num','daily_vaccinations']]\n",
    "\n",
    "# Export DataFrame to csv\n",
    "Vaccines_Administered_df.to_csv('clean_data/Vaccines_Administered_df.csv')\n",
    "\n",
    "# Display DataFrame\n",
    "Vaccines_Administered_df.head(3)"
   ]
  },
  {
   "source": [
    "# Create Covid Cases & Death DataFrame\n",
    "\n",
    "Merge state name\n",
    "\n",
    "Calculate day_num from the date and add to DataFrame\n",
    "\n",
    "Reorder columns\n",
    "\n",
    "Remove data prior to Vaccination rollout on 12/14/2020"
   ],
   "cell_type": "markdown",
   "metadata": {}
  },
  {
   "cell_type": "code",
   "execution_count": 91,
   "metadata": {},
   "outputs": [
    {
     "output_type": "execute_result",
     "data": {
      "text/plain": [
       "      state_name state_code        date  day_num  total_cases  \\\n",
       "19620     Alaska         AK  12/14/2020        0        40160   \n",
       "19621    Alabama         AL  12/14/2020        0       297895   \n",
       "19622   Arkansas         AR  12/14/2020        0       187057   \n",
       "\n",
       "       confirmed_cases  probable_cases  new_cases  pnew_cases  total_deaths  \\\n",
       "19620              0.0             0.0        422         0.0           175   \n",
       "19621         244762.0         53133.0       2264       332.0          4102   \n",
       "19622              0.0             0.0       1355       122.0          2990   \n",
       "\n",
       "       confirmed_deaths  probable_deaths  new_deaths  pnew_deaths  \\\n",
       "19620               0.0              0.0           0          0.0   \n",
       "19621            3624.0            478.0           0          0.0   \n",
       "19622               0.0              0.0          45         22.0   \n",
       "\n",
       "      consent_cases consent_deaths        created_at  \n",
       "19620             0              0  12/15/2020 14:39  \n",
       "19621         Agree          Agree  12/15/2020 14:39  \n",
       "19622     Not agree      Not agree  12/15/2020 14:39  "
      ],
      "text/html": "<div>\n<style scoped>\n    .dataframe tbody tr th:only-of-type {\n        vertical-align: middle;\n    }\n\n    .dataframe tbody tr th {\n        vertical-align: top;\n    }\n\n    .dataframe thead th {\n        text-align: right;\n    }\n</style>\n<table border=\"1\" class=\"dataframe\">\n  <thead>\n    <tr style=\"text-align: right;\">\n      <th></th>\n      <th>state_name</th>\n      <th>state_code</th>\n      <th>date</th>\n      <th>day_num</th>\n      <th>total_cases</th>\n      <th>confirmed_cases</th>\n      <th>probable_cases</th>\n      <th>new_cases</th>\n      <th>pnew_cases</th>\n      <th>total_deaths</th>\n      <th>confirmed_deaths</th>\n      <th>probable_deaths</th>\n      <th>new_deaths</th>\n      <th>pnew_deaths</th>\n      <th>consent_cases</th>\n      <th>consent_deaths</th>\n      <th>created_at</th>\n    </tr>\n  </thead>\n  <tbody>\n    <tr>\n      <th>19620</th>\n      <td>Alaska</td>\n      <td>AK</td>\n      <td>12/14/2020</td>\n      <td>0</td>\n      <td>40160</td>\n      <td>0.0</td>\n      <td>0.0</td>\n      <td>422</td>\n      <td>0.0</td>\n      <td>175</td>\n      <td>0.0</td>\n      <td>0.0</td>\n      <td>0</td>\n      <td>0.0</td>\n      <td>0</td>\n      <td>0</td>\n      <td>12/15/2020 14:39</td>\n    </tr>\n    <tr>\n      <th>19621</th>\n      <td>Alabama</td>\n      <td>AL</td>\n      <td>12/14/2020</td>\n      <td>0</td>\n      <td>297895</td>\n      <td>244762.0</td>\n      <td>53133.0</td>\n      <td>2264</td>\n      <td>332.0</td>\n      <td>4102</td>\n      <td>3624.0</td>\n      <td>478.0</td>\n      <td>0</td>\n      <td>0.0</td>\n      <td>Agree</td>\n      <td>Agree</td>\n      <td>12/15/2020 14:39</td>\n    </tr>\n    <tr>\n      <th>19622</th>\n      <td>Arkansas</td>\n      <td>AR</td>\n      <td>12/14/2020</td>\n      <td>0</td>\n      <td>187057</td>\n      <td>0.0</td>\n      <td>0.0</td>\n      <td>1355</td>\n      <td>122.0</td>\n      <td>2990</td>\n      <td>0.0</td>\n      <td>0.0</td>\n      <td>45</td>\n      <td>22.0</td>\n      <td>Not agree</td>\n      <td>Not agree</td>\n      <td>12/15/2020 14:39</td>\n    </tr>\n  </tbody>\n</table>\n</div>"
     },
     "metadata": {},
     "execution_count": 91
    }
   ],
   "source": [
    "#Rename Columns in the DataFrame and Fill all the NaN with Zero to work with the data\n",
    "c_d_df_rename = c_d_df.rename(columns={'submission_date': 'date',\n",
    "                                             'state': 'state_code',\n",
    "                                             'tot_cases': 'total_cases',\n",
    "                                             'conf_cases': 'confirmed_cases',\n",
    "                                             'prob_cases': 'probable_cases',\n",
    "                                             'new_case': 'new_cases',\n",
    "                                             'pnew_case': 'pnew_cases',\n",
    "                                             'tot_death': 'total_deaths',\n",
    "                                             'conf_death': 'confirmed_deaths',\n",
    "                                             'prob_death': 'probable_deaths',\n",
    "                                             'new_death': 'new_deaths',\n",
    "                                             'pnew_death': 'pnew_deaths'\n",
    "                                             }).fillna(0)\n",
    "\n",
    "# Merge in state name\n",
    "c_d_w_state_df = pd.merge(c_d_df_rename,state_code_df,on=['state_code'],how='left')\n",
    "\n",
    "# Convert date to day_num after 12/14/2020 and add to DataFrame\n",
    "day_nums = get_day_nums(c_d_w_state_df.date.tolist(),\"%m/%d/%Y\")\n",
    "c_d_w_state_df['day_num'] = day_nums\n",
    "\n",
    "# Reorder columns and remove data prior to 12/14/2020\n",
    "c_d_withstate_df = c_d_w_state_df.loc[c_d_w_state_df['day_num'] >= 0,['state_name','state_code','date','day_num','total_cases','confirmed_cases','probable_cases','new_cases','pnew_cases','total_deaths','confirmed_deaths','probable_deaths','new_deaths','pnew_deaths','consent_cases','consent_deaths','created_at']]\n",
    "\n",
    "# Export DataFrame to csv\n",
    "c_d_withstate_df.to_csv('clean_data/c_d_withstate_df.csv')\n",
    "\n",
    "# Display DataFrame\n",
    "c_d_withstate_df.head(3)"
   ]
  },
  {
   "cell_type": "code",
   "execution_count": 23,
   "metadata": {},
   "outputs": [],
   "source": [
    "# # merge state codes with the Cases and Death DF to get the State/District Name from the file. and fill all the null values with a Zero\n",
    "# m_c_d_df = pd.merge(c_d_df, state_code_df, left_on='state', right_on='Postal Code', how='outer').fillna(0)\n",
    "# m_c_d_df\n",
    "\n",
    "# # Create a new column for months and Year.\n",
    "# m_c_d_df['Month'] = pd.DatetimeIndex(m_c_d_df['submission_date']).month\n",
    "# m_c_d_df['Year'] = pd.DatetimeIndex(m_c_d_df['submission_date']).year\n",
    "# # m_c_d_df.to_csv('source_data/new_dataframes/c_d_withstate_df.csv')\n",
    "\n",
    "# # create a new groupby DataFrame to sum by year, month and state. \n",
    "# group_c_d_df = m_c_d_df.groupby(['Year', 'Month', 'State/District']).sum().reset_index()\n",
    "# # group_c_d_df\n",
    "\n",
    "# #Then Reset Index so a wrong data can be removed\n",
    "# c_d_f_final = group_c_d_df[(group_c_d_df['Year'] != 1970) & (group_c_d_df['State/District'] != 0)].reset_index()\n",
    "# c_d_f_final\n",
    "\n"
   ]
  },
  {
   "cell_type": "code",
   "execution_count": 24,
   "metadata": {},
   "outputs": [],
   "source": [
    "# # Preparing pfe_mrna_jnj_final Dataframe to merge with c_d_f_final\n",
    "\n",
    "# pfe_mrna_jnj_final['Month'] = pd.DatetimeIndex(pfe_mrna_jnj_final['Week of Allocations']).month \n",
    "# pfe_mrna_jnj_final['Year'] = pd.DatetimeIndex(pfe_mrna_jnj_final['Week of Allocations']).year \n",
    "# pfe_mrna_jnj_groupsum = pfe_mrna_jnj_final.groupby(['Year', 'Month', 'Jurisdiction']).sum().reset_index()\n",
    "# pfe_mrna_jnj_groupsum\n"
   ]
  },
  {
   "cell_type": "code",
   "execution_count": 25,
   "metadata": {},
   "outputs": [],
   "source": [
    "# # Merging two pfe_mrna_jnj_final and c_d_f_final. This will be useful for final analysis of New case vs the doses administered.\n",
    "\n",
    "# merge_CD_pfe_mrna_jnj = pd.merge(pfe_mrna_jnj_groupsum, c_d_f_final, left_on=['Year', 'Month', 'Jurisdiction'], right_on=['Year', 'Month', 'State/District'], how='inner')\n",
    "\n",
    "# # merge_CD_pfe_mrna_jnj.to_csv('source_data/new_dataframes/merge_CD_pfe_mrna_jnj.csv')\n",
    "\n",
    "# merge_CD_pfe_mrna_jnj\n"
   ]
  },
  {
   "source": [
    "# Collect Census Population Data"
   ],
   "cell_type": "markdown",
   "metadata": {}
  },
  {
   "cell_type": "code",
   "execution_count": 97,
   "metadata": {},
   "outputs": [
    {
     "output_type": "execute_result",
     "data": {
      "text/plain": [
       "  state_name state_code  population  median_age  household_income  \\\n",
       "0    Alabama         AL   4876250.0        39.0           50536.0   \n",
       "1     Alaska         AK    737068.0        34.3           77640.0   \n",
       "2    Arizona         AZ   7050299.0        37.7           58945.0   \n",
       "\n",
       "   per_capita_income  poverty_count  poverty_rate  unemployment_count  \\\n",
       "0            27928.0       795989.0     16.323794            132095.0   \n",
       "1            36787.0        76933.0     10.437707             26808.0   \n",
       "2            30694.0      1043764.0     14.804535            195905.0   \n",
       "\n",
       "   unemployment_rate  \n",
       "0           2.708946  \n",
       "1           3.637114  \n",
       "2           2.778676  "
      ],
      "text/html": "<div>\n<style scoped>\n    .dataframe tbody tr th:only-of-type {\n        vertical-align: middle;\n    }\n\n    .dataframe tbody tr th {\n        vertical-align: top;\n    }\n\n    .dataframe thead th {\n        text-align: right;\n    }\n</style>\n<table border=\"1\" class=\"dataframe\">\n  <thead>\n    <tr style=\"text-align: right;\">\n      <th></th>\n      <th>state_name</th>\n      <th>state_code</th>\n      <th>population</th>\n      <th>median_age</th>\n      <th>household_income</th>\n      <th>per_capita_income</th>\n      <th>poverty_count</th>\n      <th>poverty_rate</th>\n      <th>unemployment_count</th>\n      <th>unemployment_rate</th>\n    </tr>\n  </thead>\n  <tbody>\n    <tr>\n      <th>0</th>\n      <td>Alabama</td>\n      <td>AL</td>\n      <td>4876250.0</td>\n      <td>39.0</td>\n      <td>50536.0</td>\n      <td>27928.0</td>\n      <td>795989.0</td>\n      <td>16.323794</td>\n      <td>132095.0</td>\n      <td>2.708946</td>\n    </tr>\n    <tr>\n      <th>1</th>\n      <td>Alaska</td>\n      <td>AK</td>\n      <td>737068.0</td>\n      <td>34.3</td>\n      <td>77640.0</td>\n      <td>36787.0</td>\n      <td>76933.0</td>\n      <td>10.437707</td>\n      <td>26808.0</td>\n      <td>3.637114</td>\n    </tr>\n    <tr>\n      <th>2</th>\n      <td>Arizona</td>\n      <td>AZ</td>\n      <td>7050299.0</td>\n      <td>37.7</td>\n      <td>58945.0</td>\n      <td>30694.0</td>\n      <td>1043764.0</td>\n      <td>14.804535</td>\n      <td>195905.0</td>\n      <td>2.778676</td>\n    </tr>\n  </tbody>\n</table>\n</div>"
     },
     "metadata": {},
     "execution_count": 97
    }
   ],
   "source": [
    "# Run Census Search to retrieve data on all zip codes (2013 ACS5 Census)\n",
    "# See: https://github.com/CommerceDataService/census-wrapper for library documentation\n",
    "# See: https://gist.github.com/afhaque/60558290d6efd892351c4b64e5c01e9b for labels\n",
    "census_data = c.acs5.get((\"NAME\", \"B19013_001E\", \"B01003_001E\", \"B01002_001E\",\n",
    "                          \"B19301_001E\",\n",
    "                          \"B17001_002E\", \"B23025_005E\"), {'for': 'state:*'})\n",
    "\n",
    "# Convert to DataFrame\n",
    "census_pd = pd.DataFrame(census_data)\n",
    "\n",
    "# Column Reordering\n",
    "census_pd = census_pd.rename(columns={\n",
    "                                      \"B01003_001E\": \"population\",\n",
    "                                      \"B01002_001E\": \"median_age\",\n",
    "                                      \"B19013_001E\": \"household_income\",\n",
    "                                      \"B19301_001E\": \"per_capita_income\",\n",
    "                                      \"B17001_002E\": \"poverty_count\",\n",
    "                                      \"B23025_005E\": \"unemployment_count\",\n",
    "                                      \"NAME\": \"state_name\", \"state\": \"State\"})\n",
    "\n",
    "# Add in Poverty Rate (Poverty Count / Population)\n",
    "census_pd[\"poverty_rate\"] = 100 * \\\n",
    "    census_pd[\"poverty_count\"].astype(\n",
    "        int) / census_pd[\"population\"].astype(int)\n",
    "\n",
    "census_pd[\"unemployment_rate\"] = 100 * \\\n",
    "    census_pd[\"unemployment_count\"].astype(\n",
    "        int) / census_pd[\"population\"].astype(int)\n",
    "\n",
    "\n",
    "# Merge in state name\n",
    "census_w_state_pd = pd.merge(census_pd,state_code_df,on=['state_name'],how='left')\n",
    "\n",
    "\n",
    "# Reorder columns\n",
    "census_w_state_pd = census_w_state_pd[[\"state_name\",\"state_code\",\"population\", \"median_age\", \"household_income\",\n",
    "                       \"per_capita_income\", \"poverty_count\", \"poverty_rate\", \"unemployment_count\", \"unemployment_rate\"]]\n",
    "\n",
    "# Export DataFrame to csv\n",
    "census_w_state_pd.to_csv('clean_data/Population.csv')\n",
    "\n",
    "# Display DataFrame\n",
    "census_w_state_pd.head(3)"
   ]
  },
  {
   "cell_type": "code",
   "execution_count": 18,
   "metadata": {},
   "outputs": [
    {
     "output_type": "execute_result",
     "data": {
      "text/plain": [
       "     Year  Month Jurisdiction  PFE Dose-1  PFE Dose-2  MRNA Dose-1  \\\n",
       "0    2020     12      Alabama      108225      108225     113400.0   \n",
       "1    2021      1      Alabama      118950      118950     119300.0   \n",
       "2    2021      2      Alabama      138645      138645     179900.0   \n",
       "3    2021      3      Alabama      328770      328770     238500.0   \n",
       "4    2021      4      Alabama      207090      207090     153300.0   \n",
       "..    ...    ...          ...         ...         ...          ...   \n",
       "255  2020     12      Wyoming       13650       13650      13500.0   \n",
       "256  2021      1      Wyoming       15600       15600      14400.0   \n",
       "257  2021      2      Wyoming       17550       17550      21500.0   \n",
       "258  2021      3      Wyoming       42120       42120      28500.0   \n",
       "259  2021      4      Wyoming       25740       25740      18200.0   \n",
       "\n",
       "     MRNA Dose-2  JNJ Dose-1  index State/District  ...  pnew_death     Name  \\\n",
       "0       113400.0         0.0    641        Alabama  ...       276.0  Alabama   \n",
       "1       119300.0         0.0    699        Alabama  ...       909.0  Alabama   \n",
       "2       179900.0         0.0    757        Alabama  ...       625.0  Alabama   \n",
       "3       238500.0     79600.0    815        Alabama  ...        85.0  Alabama   \n",
       "4       153300.0     80300.0    873        Alabama  ...        65.0  Alabama   \n",
       "..           ...         ...    ...            ...  ...         ...      ...   \n",
       "255      13500.0         0.0    697        Wyoming  ...         0.0  Wyoming   \n",
       "256      14400.0         0.0    755        Wyoming  ...         0.0  Wyoming   \n",
       "257      21500.0         0.0    813        Wyoming  ...         0.0  Wyoming   \n",
       "258      28500.0      9600.0    871        Wyoming  ...         0.0  Wyoming   \n",
       "259      18200.0      9500.0    929        Wyoming  ...         0.0  Wyoming   \n",
       "\n",
       "     Population  Median Age  Household Income  Per Capita Income  \\\n",
       "0     4876250.0        39.0           50536.0            27928.0   \n",
       "1     4876250.0        39.0           50536.0            27928.0   \n",
       "2     4876250.0        39.0           50536.0            27928.0   \n",
       "3     4876250.0        39.0           50536.0            27928.0   \n",
       "4     4876250.0        39.0           50536.0            27928.0   \n",
       "..          ...         ...               ...                ...   \n",
       "255    581024.0        37.7           64049.0            33366.0   \n",
       "256    581024.0        37.7           64049.0            33366.0   \n",
       "257    581024.0        37.7           64049.0            33366.0   \n",
       "258    581024.0        37.7           64049.0            33366.0   \n",
       "259    581024.0        37.7           64049.0            33366.0   \n",
       "\n",
       "     Poverty Count  Poverty Rate  Unemployment Count  Unemployment Rate  \n",
       "0         795989.0     16.323794            132095.0           2.708946  \n",
       "1         795989.0     16.323794            132095.0           2.708946  \n",
       "2         795989.0     16.323794            132095.0           2.708946  \n",
       "3         795989.0     16.323794            132095.0           2.708946  \n",
       "4         795989.0     16.323794            132095.0           2.708946  \n",
       "..             ...           ...                 ...                ...  \n",
       "255        62257.0     10.715048             13544.0           2.331057  \n",
       "256        62257.0     10.715048             13544.0           2.331057  \n",
       "257        62257.0     10.715048             13544.0           2.331057  \n",
       "258        62257.0     10.715048             13544.0           2.331057  \n",
       "259        62257.0     10.715048             13544.0           2.331057  \n",
       "\n",
       "[260 rows x 29 columns]"
      ],
      "text/html": "<div>\n<style scoped>\n    .dataframe tbody tr th:only-of-type {\n        vertical-align: middle;\n    }\n\n    .dataframe tbody tr th {\n        vertical-align: top;\n    }\n\n    .dataframe thead th {\n        text-align: right;\n    }\n</style>\n<table border=\"1\" class=\"dataframe\">\n  <thead>\n    <tr style=\"text-align: right;\">\n      <th></th>\n      <th>Year</th>\n      <th>Month</th>\n      <th>Jurisdiction</th>\n      <th>PFE Dose-1</th>\n      <th>PFE Dose-2</th>\n      <th>MRNA Dose-1</th>\n      <th>MRNA Dose-2</th>\n      <th>JNJ Dose-1</th>\n      <th>index</th>\n      <th>State/District</th>\n      <th>...</th>\n      <th>pnew_death</th>\n      <th>Name</th>\n      <th>Population</th>\n      <th>Median Age</th>\n      <th>Household Income</th>\n      <th>Per Capita Income</th>\n      <th>Poverty Count</th>\n      <th>Poverty Rate</th>\n      <th>Unemployment Count</th>\n      <th>Unemployment Rate</th>\n    </tr>\n  </thead>\n  <tbody>\n    <tr>\n      <th>0</th>\n      <td>2020</td>\n      <td>12</td>\n      <td>Alabama</td>\n      <td>108225</td>\n      <td>108225</td>\n      <td>113400.0</td>\n      <td>113400.0</td>\n      <td>0.0</td>\n      <td>641</td>\n      <td>Alabama</td>\n      <td>...</td>\n      <td>276.0</td>\n      <td>Alabama</td>\n      <td>4876250.0</td>\n      <td>39.0</td>\n      <td>50536.0</td>\n      <td>27928.0</td>\n      <td>795989.0</td>\n      <td>16.323794</td>\n      <td>132095.0</td>\n      <td>2.708946</td>\n    </tr>\n    <tr>\n      <th>1</th>\n      <td>2021</td>\n      <td>1</td>\n      <td>Alabama</td>\n      <td>118950</td>\n      <td>118950</td>\n      <td>119300.0</td>\n      <td>119300.0</td>\n      <td>0.0</td>\n      <td>699</td>\n      <td>Alabama</td>\n      <td>...</td>\n      <td>909.0</td>\n      <td>Alabama</td>\n      <td>4876250.0</td>\n      <td>39.0</td>\n      <td>50536.0</td>\n      <td>27928.0</td>\n      <td>795989.0</td>\n      <td>16.323794</td>\n      <td>132095.0</td>\n      <td>2.708946</td>\n    </tr>\n    <tr>\n      <th>2</th>\n      <td>2021</td>\n      <td>2</td>\n      <td>Alabama</td>\n      <td>138645</td>\n      <td>138645</td>\n      <td>179900.0</td>\n      <td>179900.0</td>\n      <td>0.0</td>\n      <td>757</td>\n      <td>Alabama</td>\n      <td>...</td>\n      <td>625.0</td>\n      <td>Alabama</td>\n      <td>4876250.0</td>\n      <td>39.0</td>\n      <td>50536.0</td>\n      <td>27928.0</td>\n      <td>795989.0</td>\n      <td>16.323794</td>\n      <td>132095.0</td>\n      <td>2.708946</td>\n    </tr>\n    <tr>\n      <th>3</th>\n      <td>2021</td>\n      <td>3</td>\n      <td>Alabama</td>\n      <td>328770</td>\n      <td>328770</td>\n      <td>238500.0</td>\n      <td>238500.0</td>\n      <td>79600.0</td>\n      <td>815</td>\n      <td>Alabama</td>\n      <td>...</td>\n      <td>85.0</td>\n      <td>Alabama</td>\n      <td>4876250.0</td>\n      <td>39.0</td>\n      <td>50536.0</td>\n      <td>27928.0</td>\n      <td>795989.0</td>\n      <td>16.323794</td>\n      <td>132095.0</td>\n      <td>2.708946</td>\n    </tr>\n    <tr>\n      <th>4</th>\n      <td>2021</td>\n      <td>4</td>\n      <td>Alabama</td>\n      <td>207090</td>\n      <td>207090</td>\n      <td>153300.0</td>\n      <td>153300.0</td>\n      <td>80300.0</td>\n      <td>873</td>\n      <td>Alabama</td>\n      <td>...</td>\n      <td>65.0</td>\n      <td>Alabama</td>\n      <td>4876250.0</td>\n      <td>39.0</td>\n      <td>50536.0</td>\n      <td>27928.0</td>\n      <td>795989.0</td>\n      <td>16.323794</td>\n      <td>132095.0</td>\n      <td>2.708946</td>\n    </tr>\n    <tr>\n      <th>...</th>\n      <td>...</td>\n      <td>...</td>\n      <td>...</td>\n      <td>...</td>\n      <td>...</td>\n      <td>...</td>\n      <td>...</td>\n      <td>...</td>\n      <td>...</td>\n      <td>...</td>\n      <td>...</td>\n      <td>...</td>\n      <td>...</td>\n      <td>...</td>\n      <td>...</td>\n      <td>...</td>\n      <td>...</td>\n      <td>...</td>\n      <td>...</td>\n      <td>...</td>\n      <td>...</td>\n    </tr>\n    <tr>\n      <th>255</th>\n      <td>2020</td>\n      <td>12</td>\n      <td>Wyoming</td>\n      <td>13650</td>\n      <td>13650</td>\n      <td>13500.0</td>\n      <td>13500.0</td>\n      <td>0.0</td>\n      <td>697</td>\n      <td>Wyoming</td>\n      <td>...</td>\n      <td>0.0</td>\n      <td>Wyoming</td>\n      <td>581024.0</td>\n      <td>37.7</td>\n      <td>64049.0</td>\n      <td>33366.0</td>\n      <td>62257.0</td>\n      <td>10.715048</td>\n      <td>13544.0</td>\n      <td>2.331057</td>\n    </tr>\n    <tr>\n      <th>256</th>\n      <td>2021</td>\n      <td>1</td>\n      <td>Wyoming</td>\n      <td>15600</td>\n      <td>15600</td>\n      <td>14400.0</td>\n      <td>14400.0</td>\n      <td>0.0</td>\n      <td>755</td>\n      <td>Wyoming</td>\n      <td>...</td>\n      <td>0.0</td>\n      <td>Wyoming</td>\n      <td>581024.0</td>\n      <td>37.7</td>\n      <td>64049.0</td>\n      <td>33366.0</td>\n      <td>62257.0</td>\n      <td>10.715048</td>\n      <td>13544.0</td>\n      <td>2.331057</td>\n    </tr>\n    <tr>\n      <th>257</th>\n      <td>2021</td>\n      <td>2</td>\n      <td>Wyoming</td>\n      <td>17550</td>\n      <td>17550</td>\n      <td>21500.0</td>\n      <td>21500.0</td>\n      <td>0.0</td>\n      <td>813</td>\n      <td>Wyoming</td>\n      <td>...</td>\n      <td>0.0</td>\n      <td>Wyoming</td>\n      <td>581024.0</td>\n      <td>37.7</td>\n      <td>64049.0</td>\n      <td>33366.0</td>\n      <td>62257.0</td>\n      <td>10.715048</td>\n      <td>13544.0</td>\n      <td>2.331057</td>\n    </tr>\n    <tr>\n      <th>258</th>\n      <td>2021</td>\n      <td>3</td>\n      <td>Wyoming</td>\n      <td>42120</td>\n      <td>42120</td>\n      <td>28500.0</td>\n      <td>28500.0</td>\n      <td>9600.0</td>\n      <td>871</td>\n      <td>Wyoming</td>\n      <td>...</td>\n      <td>0.0</td>\n      <td>Wyoming</td>\n      <td>581024.0</td>\n      <td>37.7</td>\n      <td>64049.0</td>\n      <td>33366.0</td>\n      <td>62257.0</td>\n      <td>10.715048</td>\n      <td>13544.0</td>\n      <td>2.331057</td>\n    </tr>\n    <tr>\n      <th>259</th>\n      <td>2021</td>\n      <td>4</td>\n      <td>Wyoming</td>\n      <td>25740</td>\n      <td>25740</td>\n      <td>18200.0</td>\n      <td>18200.0</td>\n      <td>9500.0</td>\n      <td>929</td>\n      <td>Wyoming</td>\n      <td>...</td>\n      <td>0.0</td>\n      <td>Wyoming</td>\n      <td>581024.0</td>\n      <td>37.7</td>\n      <td>64049.0</td>\n      <td>33366.0</td>\n      <td>62257.0</td>\n      <td>10.715048</td>\n      <td>13544.0</td>\n      <td>2.331057</td>\n    </tr>\n  </tbody>\n</table>\n<p>260 rows × 29 columns</p>\n</div>"
     },
     "metadata": {},
     "execution_count": 18
    }
   ],
   "source": [
    "# # merge with Vaccine and CD dataframe.\n",
    "\n",
    "# merge_CD_pfe_mrna_jnj_census = pd.merge(merge_CD_pfe_mrna_jnj, census_pd, left_on=['Jurisdiction'], right_on=['Name'], how='inner')\n",
    "\n",
    "# # merge_CD_pfe_mrna_jnj_census.to_csv('source_data/new_dataframes/Cencus_vaccine_CD.csv')\n",
    "\n",
    "# merge_CD_pfe_mrna_jnj_census"
   ]
  },
  {
   "cell_type": "code",
   "execution_count": 24,
   "metadata": {},
   "outputs": [
    {
     "output_type": "execute_result",
     "data": {
      "text/plain": [
       "     Year  Month Jurisdiction  PFE Dose-1  PFE Dose-2  MRNA Dose-1  \\\n",
       "0    2020     12      Alabama      108225      108225     113400.0   \n",
       "1    2021      1      Alabama      118950      118950     119300.0   \n",
       "2    2021      2      Alabama      138645      138645     179900.0   \n",
       "3    2021      3      Alabama      328770      328770     238500.0   \n",
       "4    2021      4      Alabama      207090      207090     153300.0   \n",
       "..    ...    ...          ...         ...         ...          ...   \n",
       "255  2020     12      Wyoming       13650       13650      13500.0   \n",
       "256  2021      1      Wyoming       15600       15600      14400.0   \n",
       "257  2021      2      Wyoming       17550       17550      21500.0   \n",
       "258  2021      3      Wyoming       42120       42120      28500.0   \n",
       "259  2021      4      Wyoming       25740       25740      18200.0   \n",
       "\n",
       "     MRNA Dose-2  \n",
       "0       113400.0  \n",
       "1       119300.0  \n",
       "2       179900.0  \n",
       "3       238500.0  \n",
       "4       153300.0  \n",
       "..           ...  \n",
       "255      13500.0  \n",
       "256      14400.0  \n",
       "257      21500.0  \n",
       "258      28500.0  \n",
       "259      18200.0  \n",
       "\n",
       "[260 rows x 7 columns]"
      ],
      "text/html": "<div>\n<style scoped>\n    .dataframe tbody tr th:only-of-type {\n        vertical-align: middle;\n    }\n\n    .dataframe tbody tr th {\n        vertical-align: top;\n    }\n\n    .dataframe thead th {\n        text-align: right;\n    }\n</style>\n<table border=\"1\" class=\"dataframe\">\n  <thead>\n    <tr style=\"text-align: right;\">\n      <th></th>\n      <th>Year</th>\n      <th>Month</th>\n      <th>Jurisdiction</th>\n      <th>PFE Dose-1</th>\n      <th>PFE Dose-2</th>\n      <th>MRNA Dose-1</th>\n      <th>MRNA Dose-2</th>\n    </tr>\n  </thead>\n  <tbody>\n    <tr>\n      <th>0</th>\n      <td>2020</td>\n      <td>12</td>\n      <td>Alabama</td>\n      <td>108225</td>\n      <td>108225</td>\n      <td>113400.0</td>\n      <td>113400.0</td>\n    </tr>\n    <tr>\n      <th>1</th>\n      <td>2021</td>\n      <td>1</td>\n      <td>Alabama</td>\n      <td>118950</td>\n      <td>118950</td>\n      <td>119300.0</td>\n      <td>119300.0</td>\n    </tr>\n    <tr>\n      <th>2</th>\n      <td>2021</td>\n      <td>2</td>\n      <td>Alabama</td>\n      <td>138645</td>\n      <td>138645</td>\n      <td>179900.0</td>\n      <td>179900.0</td>\n    </tr>\n    <tr>\n      <th>3</th>\n      <td>2021</td>\n      <td>3</td>\n      <td>Alabama</td>\n      <td>328770</td>\n      <td>328770</td>\n      <td>238500.0</td>\n      <td>238500.0</td>\n    </tr>\n    <tr>\n      <th>4</th>\n      <td>2021</td>\n      <td>4</td>\n      <td>Alabama</td>\n      <td>207090</td>\n      <td>207090</td>\n      <td>153300.0</td>\n      <td>153300.0</td>\n    </tr>\n    <tr>\n      <th>...</th>\n      <td>...</td>\n      <td>...</td>\n      <td>...</td>\n      <td>...</td>\n      <td>...</td>\n      <td>...</td>\n      <td>...</td>\n    </tr>\n    <tr>\n      <th>255</th>\n      <td>2020</td>\n      <td>12</td>\n      <td>Wyoming</td>\n      <td>13650</td>\n      <td>13650</td>\n      <td>13500.0</td>\n      <td>13500.0</td>\n    </tr>\n    <tr>\n      <th>256</th>\n      <td>2021</td>\n      <td>1</td>\n      <td>Wyoming</td>\n      <td>15600</td>\n      <td>15600</td>\n      <td>14400.0</td>\n      <td>14400.0</td>\n    </tr>\n    <tr>\n      <th>257</th>\n      <td>2021</td>\n      <td>2</td>\n      <td>Wyoming</td>\n      <td>17550</td>\n      <td>17550</td>\n      <td>21500.0</td>\n      <td>21500.0</td>\n    </tr>\n    <tr>\n      <th>258</th>\n      <td>2021</td>\n      <td>3</td>\n      <td>Wyoming</td>\n      <td>42120</td>\n      <td>42120</td>\n      <td>28500.0</td>\n      <td>28500.0</td>\n    </tr>\n    <tr>\n      <th>259</th>\n      <td>2021</td>\n      <td>4</td>\n      <td>Wyoming</td>\n      <td>25740</td>\n      <td>25740</td>\n      <td>18200.0</td>\n      <td>18200.0</td>\n    </tr>\n  </tbody>\n</table>\n<p>260 rows × 7 columns</p>\n</div>"
     },
     "metadata": {},
     "execution_count": 24
    }
   ],
   "source": [
    "# final_df = merge_CD_pfe_mrna_jnj_census[['Year', 'Month', 'Jurisdiction', 'PFE Dose-1', 'PFE Dose-2', 'MRNA Dose-1', 'MRNA Dose-2']]\n",
    "\n",
    "# final_df"
   ]
  }
 ]
}