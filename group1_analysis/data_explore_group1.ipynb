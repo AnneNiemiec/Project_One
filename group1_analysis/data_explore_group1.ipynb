{
 "metadata": {
  "language_info": {
   "codemirror_mode": {
    "name": "ipython",
    "version": 3
   },
   "file_extension": ".py",
   "mimetype": "text/x-python",
   "name": "python",
   "nbconvert_exporter": "python",
   "pygments_lexer": "ipython3",
   "version": "3.7.9"
  },
  "orig_nbformat": 2,
  "kernelspec": {
   "name": "python379jvsc74a57bd0ac5a4a8be39a6f36cb398e11c49d1d11aa42d9028028208279e8ac6ab225301c",
   "display_name": "Python 3.7.9 64-bit ('PythonData': conda)"
  }
 },
 "nbformat": 4,
 "nbformat_minor": 2,
 "cells": [
  {
   "source": [
    "# Covid-19 Vaccine Allocations and Case Counts Analysis\n",
    "----\n",
    "\n",
    "Written in the Python 3.7.9 Environment\n",
    "\n",
    "By Tarak Patel, Nicole Lund and Anne Niemiec.\n",
    "\n",
    "Common Jupyter cells have been notated for ease of merging after individuals their analysis.\n",
    "\n",
    "Individual working files will be merged using https://pypi.org/project/nbmerge/"
   ],
   "cell_type": "markdown",
   "metadata": {}
  },
  {
   "cell_type": "code",
   "execution_count": 2,
   "metadata": {},
   "outputs": [],
   "source": [
    "### This is a common Jupyter Cell.  Do not modify without coordination. ###\n",
    "\n",
    "# Load Dependencies\n",
    "\n",
    "# Data Organization & Collection\n",
    "import pandas as pd\n",
    "import requests\n",
    "import json\n",
    "from census import Census\n",
    "\n",
    "# Data Visualization & Analysis\n",
    "import matplotlib.pyplot as plt\n",
    "import numpy as np\n",
    "import scipy.stats as st\n",
    "import gmaps\n",
    "\n",
    "# General Navigation\n",
    "import time\n",
    "import os\n",
    "import sys"
   ]
  },
  {
   "cell_type": "code",
   "execution_count": 3,
   "metadata": {},
   "outputs": [],
   "source": [
    "# Define users api key file folder location\n",
    "api_key_path = r\"C:\\Users\\nlund\\Documents\\GitHub\\untracked_files\""
   ]
  },
  {
   "cell_type": "code",
   "execution_count": 4,
   "metadata": {},
   "outputs": [
    {
     "output_type": "error",
     "ename": "ModuleNotFoundError",
     "evalue": "No module named 'untracked_api_keys'",
     "traceback": [
      "\u001b[1;31m---------------------------------------------------------------------------\u001b[0m",
      "\u001b[1;31mModuleNotFoundError\u001b[0m                       Traceback (most recent call last)",
      "\u001b[1;32m<ipython-input-4-9003d93dfea6>\u001b[0m in \u001b[0;36m<module>\u001b[1;34m\u001b[0m\n\u001b[0;32m      5\u001b[0m \u001b[1;33m\u001b[0m\u001b[0m\n\u001b[0;32m      6\u001b[0m \u001b[1;31m# Import Census API Key\u001b[0m\u001b[1;33m\u001b[0m\u001b[1;33m\u001b[0m\u001b[1;33m\u001b[0m\u001b[0m\n\u001b[1;32m----> 7\u001b[1;33m \u001b[1;32mfrom\u001b[0m \u001b[0muntracked_api_keys\u001b[0m \u001b[1;32mimport\u001b[0m \u001b[0mcensus_key\u001b[0m\u001b[1;33m\u001b[0m\u001b[1;33m\u001b[0m\u001b[0m\n\u001b[0m\u001b[0;32m      8\u001b[0m \u001b[0mc\u001b[0m \u001b[1;33m=\u001b[0m \u001b[0mCensus\u001b[0m\u001b[1;33m(\u001b[0m\u001b[0mcensus_key\u001b[0m\u001b[1;33m,\u001b[0m \u001b[0myear\u001b[0m\u001b[1;33m=\u001b[0m\u001b[1;36m2019\u001b[0m\u001b[1;33m)\u001b[0m\u001b[1;33m\u001b[0m\u001b[1;33m\u001b[0m\u001b[0m\n\u001b[0;32m      9\u001b[0m \u001b[1;33m\u001b[0m\u001b[0m\n",
      "\u001b[1;31mModuleNotFoundError\u001b[0m: No module named 'untracked_api_keys'"
     ]
    }
   ],
   "source": [
    "### This is a common Jupyter Cell.  Do not modify without coordination. ###\n",
    "\n",
    "# Add API key file to system path\n",
    "sys.path.append(api_key_path)\n",
    "\n",
    "# Import Census API Key\n",
    "from untracked_api_keys import census_key\n",
    "c = Census(census_key, year=2019)\n",
    "\n",
    "# Import Google API key\n",
    "from untracked_api_keys import g_key"
   ]
  },
  {
   "cell_type": "code",
   "execution_count": 5,
   "metadata": {},
   "outputs": [
    {
     "output_type": "execute_result",
     "data": {
      "text/plain": [
       "          state_name state_code        date  day_num  total_cases  \\\n",
       "0             Alaska         AK  12/14/2020        0        40160   \n",
       "1            Alabama         AL  12/14/2020        0       297895   \n",
       "2           Arkansas         AR  12/14/2020        0       187057   \n",
       "3     American Samoa         AS  12/14/2020        0            3   \n",
       "4            Arizona         AZ  12/14/2020        0       420248   \n",
       "...              ...        ...         ...      ...          ...   \n",
       "7495         Vermont         VT   4/17/2021      124        21869   \n",
       "7496      Washington         WA   4/17/2021      124       385549   \n",
       "7497       Wisconsin         WI   4/17/2021      124       650949   \n",
       "7498   West Virginia         WV   4/17/2021      124       148517   \n",
       "7499         Wyoming         WY   4/17/2021      124        57267   \n",
       "\n",
       "      confirmed_cases  probable_cases  new_cases  pnew_cases  total_deaths  \\\n",
       "0                 0.0             0.0        422         0.0           175   \n",
       "1            244762.0         53133.0       2264       332.0          4102   \n",
       "2                 0.0             0.0       1355       122.0          2990   \n",
       "3                 0.0             0.0          0         0.0             0   \n",
       "4            404294.0         15954.0      11806       503.0          7358   \n",
       "...               ...             ...        ...         ...           ...   \n",
       "7495              0.0             0.0         66         2.0           242   \n",
       "7496              0.0             0.0       1655       185.0          5380   \n",
       "7497         589940.0         61009.0        868       141.0          7422   \n",
       "7498         117164.0         31353.0        446        97.0          2780   \n",
       "7499          48447.0          8820.0          0         0.0           703   \n",
       "\n",
       "      confirmed_deaths  probable_deaths  new_deaths  pnew_deaths  \\\n",
       "0                  0.0              0.0           0          0.0   \n",
       "1               3624.0            478.0           0          0.0   \n",
       "2                  0.0              0.0          45         22.0   \n",
       "3                  0.0              0.0           0          0.0   \n",
       "4               6782.0            576.0           1         -2.0   \n",
       "...                ...              ...         ...          ...   \n",
       "7495               0.0              0.0           0          0.0   \n",
       "7496               0.0              0.0           0          0.0   \n",
       "7497            6711.0            711.0          10          2.0   \n",
       "7498               0.0              0.0           3          0.0   \n",
       "7499             703.0              0.0           0          0.0   \n",
       "\n",
       "     consent_cases consent_deaths        created_at  \n",
       "0                0              0  12/15/2020 14:39  \n",
       "1            Agree          Agree  12/15/2020 14:39  \n",
       "2        Not agree      Not agree  12/15/2020 14:39  \n",
       "3                0              0  12/15/2020 14:39  \n",
       "4            Agree          Agree  12/15/2020 14:39  \n",
       "...            ...            ...               ...  \n",
       "7495     Not agree      Not agree   4/18/2021 13:41  \n",
       "7496             0              0   4/18/2021 13:41  \n",
       "7497         Agree          Agree   4/18/2021 13:41  \n",
       "7498         Agree      Not agree   4/18/2021 13:41  \n",
       "7499         Agree          Agree   4/18/2021 13:41  \n",
       "\n",
       "[7500 rows x 17 columns]"
      ],
      "text/html": "<div>\n<style scoped>\n    .dataframe tbody tr th:only-of-type {\n        vertical-align: middle;\n    }\n\n    .dataframe tbody tr th {\n        vertical-align: top;\n    }\n\n    .dataframe thead th {\n        text-align: right;\n    }\n</style>\n<table border=\"1\" class=\"dataframe\">\n  <thead>\n    <tr style=\"text-align: right;\">\n      <th></th>\n      <th>state_name</th>\n      <th>state_code</th>\n      <th>date</th>\n      <th>day_num</th>\n      <th>total_cases</th>\n      <th>confirmed_cases</th>\n      <th>probable_cases</th>\n      <th>new_cases</th>\n      <th>pnew_cases</th>\n      <th>total_deaths</th>\n      <th>confirmed_deaths</th>\n      <th>probable_deaths</th>\n      <th>new_deaths</th>\n      <th>pnew_deaths</th>\n      <th>consent_cases</th>\n      <th>consent_deaths</th>\n      <th>created_at</th>\n    </tr>\n  </thead>\n  <tbody>\n    <tr>\n      <th>0</th>\n      <td>Alaska</td>\n      <td>AK</td>\n      <td>12/14/2020</td>\n      <td>0</td>\n      <td>40160</td>\n      <td>0.0</td>\n      <td>0.0</td>\n      <td>422</td>\n      <td>0.0</td>\n      <td>175</td>\n      <td>0.0</td>\n      <td>0.0</td>\n      <td>0</td>\n      <td>0.0</td>\n      <td>0</td>\n      <td>0</td>\n      <td>12/15/2020 14:39</td>\n    </tr>\n    <tr>\n      <th>1</th>\n      <td>Alabama</td>\n      <td>AL</td>\n      <td>12/14/2020</td>\n      <td>0</td>\n      <td>297895</td>\n      <td>244762.0</td>\n      <td>53133.0</td>\n      <td>2264</td>\n      <td>332.0</td>\n      <td>4102</td>\n      <td>3624.0</td>\n      <td>478.0</td>\n      <td>0</td>\n      <td>0.0</td>\n      <td>Agree</td>\n      <td>Agree</td>\n      <td>12/15/2020 14:39</td>\n    </tr>\n    <tr>\n      <th>2</th>\n      <td>Arkansas</td>\n      <td>AR</td>\n      <td>12/14/2020</td>\n      <td>0</td>\n      <td>187057</td>\n      <td>0.0</td>\n      <td>0.0</td>\n      <td>1355</td>\n      <td>122.0</td>\n      <td>2990</td>\n      <td>0.0</td>\n      <td>0.0</td>\n      <td>45</td>\n      <td>22.0</td>\n      <td>Not agree</td>\n      <td>Not agree</td>\n      <td>12/15/2020 14:39</td>\n    </tr>\n    <tr>\n      <th>3</th>\n      <td>American Samoa</td>\n      <td>AS</td>\n      <td>12/14/2020</td>\n      <td>0</td>\n      <td>3</td>\n      <td>0.0</td>\n      <td>0.0</td>\n      <td>0</td>\n      <td>0.0</td>\n      <td>0</td>\n      <td>0.0</td>\n      <td>0.0</td>\n      <td>0</td>\n      <td>0.0</td>\n      <td>0</td>\n      <td>0</td>\n      <td>12/15/2020 14:39</td>\n    </tr>\n    <tr>\n      <th>4</th>\n      <td>Arizona</td>\n      <td>AZ</td>\n      <td>12/14/2020</td>\n      <td>0</td>\n      <td>420248</td>\n      <td>404294.0</td>\n      <td>15954.0</td>\n      <td>11806</td>\n      <td>503.0</td>\n      <td>7358</td>\n      <td>6782.0</td>\n      <td>576.0</td>\n      <td>1</td>\n      <td>-2.0</td>\n      <td>Agree</td>\n      <td>Agree</td>\n      <td>12/15/2020 14:39</td>\n    </tr>\n    <tr>\n      <th>...</th>\n      <td>...</td>\n      <td>...</td>\n      <td>...</td>\n      <td>...</td>\n      <td>...</td>\n      <td>...</td>\n      <td>...</td>\n      <td>...</td>\n      <td>...</td>\n      <td>...</td>\n      <td>...</td>\n      <td>...</td>\n      <td>...</td>\n      <td>...</td>\n      <td>...</td>\n      <td>...</td>\n      <td>...</td>\n    </tr>\n    <tr>\n      <th>7495</th>\n      <td>Vermont</td>\n      <td>VT</td>\n      <td>4/17/2021</td>\n      <td>124</td>\n      <td>21869</td>\n      <td>0.0</td>\n      <td>0.0</td>\n      <td>66</td>\n      <td>2.0</td>\n      <td>242</td>\n      <td>0.0</td>\n      <td>0.0</td>\n      <td>0</td>\n      <td>0.0</td>\n      <td>Not agree</td>\n      <td>Not agree</td>\n      <td>4/18/2021 13:41</td>\n    </tr>\n    <tr>\n      <th>7496</th>\n      <td>Washington</td>\n      <td>WA</td>\n      <td>4/17/2021</td>\n      <td>124</td>\n      <td>385549</td>\n      <td>0.0</td>\n      <td>0.0</td>\n      <td>1655</td>\n      <td>185.0</td>\n      <td>5380</td>\n      <td>0.0</td>\n      <td>0.0</td>\n      <td>0</td>\n      <td>0.0</td>\n      <td>0</td>\n      <td>0</td>\n      <td>4/18/2021 13:41</td>\n    </tr>\n    <tr>\n      <th>7497</th>\n      <td>Wisconsin</td>\n      <td>WI</td>\n      <td>4/17/2021</td>\n      <td>124</td>\n      <td>650949</td>\n      <td>589940.0</td>\n      <td>61009.0</td>\n      <td>868</td>\n      <td>141.0</td>\n      <td>7422</td>\n      <td>6711.0</td>\n      <td>711.0</td>\n      <td>10</td>\n      <td>2.0</td>\n      <td>Agree</td>\n      <td>Agree</td>\n      <td>4/18/2021 13:41</td>\n    </tr>\n    <tr>\n      <th>7498</th>\n      <td>West Virginia</td>\n      <td>WV</td>\n      <td>4/17/2021</td>\n      <td>124</td>\n      <td>148517</td>\n      <td>117164.0</td>\n      <td>31353.0</td>\n      <td>446</td>\n      <td>97.0</td>\n      <td>2780</td>\n      <td>0.0</td>\n      <td>0.0</td>\n      <td>3</td>\n      <td>0.0</td>\n      <td>Agree</td>\n      <td>Not agree</td>\n      <td>4/18/2021 13:41</td>\n    </tr>\n    <tr>\n      <th>7499</th>\n      <td>Wyoming</td>\n      <td>WY</td>\n      <td>4/17/2021</td>\n      <td>124</td>\n      <td>57267</td>\n      <td>48447.0</td>\n      <td>8820.0</td>\n      <td>0</td>\n      <td>0.0</td>\n      <td>703</td>\n      <td>703.0</td>\n      <td>0.0</td>\n      <td>0</td>\n      <td>0.0</td>\n      <td>Agree</td>\n      <td>Agree</td>\n      <td>4/18/2021 13:41</td>\n    </tr>\n  </tbody>\n</table>\n<p>7500 rows × 17 columns</p>\n</div>"
     },
     "metadata": {},
     "execution_count": 5
    }
   ],
   "source": [
    "### This is a common Jupyter Cell.  Do not modify without coordination. ###\n",
    "\n",
    "# Load clean data for Case and Death Counts by state and time\n",
    "    # This data combines:\n",
    "        # United_States_COVID-19_Cases_and_Deaths_by_State_over_Time.csv'\n",
    "        # state_code.csv\n",
    "\n",
    "c_d_withstate_df_path = r\"..\\data_manipulation\\clean_data\\c_d_withstate_df.csv\"\n",
    "cases_deaths_df = pd.read_csv(c_d_withstate_df_path)\n",
    "cases_deaths_df"
   ]
  },
  {
   "cell_type": "code",
   "execution_count": 7,
   "metadata": {},
   "outputs": [
    {
     "output_type": "error",
     "ename": "ParserError",
     "evalue": "Error tokenizing data. C error: Expected 8 fields in line 1201, saw 9\n",
     "traceback": [
      "\u001b[1;31m---------------------------------------------------------------------------\u001b[0m",
      "\u001b[1;31mParserError\u001b[0m                               Traceback (most recent call last)",
      "\u001b[1;32m<ipython-input-7-4ecc0d3cdc19>\u001b[0m in \u001b[0;36m<module>\u001b[1;34m\u001b[0m\n\u001b[0;32m      8\u001b[0m \u001b[1;33m\u001b[0m\u001b[0m\n\u001b[0;32m      9\u001b[0m \u001b[0mCombined_Vaccine_df_path\u001b[0m \u001b[1;33m=\u001b[0m \u001b[1;34mr\"..\\data_manipulation\\clean_data\\Combined_Vaccine_df.csv\"\u001b[0m\u001b[1;33m\u001b[0m\u001b[1;33m\u001b[0m\u001b[0m\n\u001b[1;32m---> 10\u001b[1;33m \u001b[0mvaccine_allocation_df\u001b[0m \u001b[1;33m=\u001b[0m \u001b[0mpd\u001b[0m\u001b[1;33m.\u001b[0m\u001b[0mread_csv\u001b[0m\u001b[1;33m(\u001b[0m\u001b[0mCombined_Vaccine_df_path\u001b[0m\u001b[1;33m)\u001b[0m\u001b[1;33m\u001b[0m\u001b[1;33m\u001b[0m\u001b[0m\n\u001b[0m\u001b[0;32m     11\u001b[0m \u001b[0mvaccine_allocation_df\u001b[0m\u001b[1;33m.\u001b[0m\u001b[0mhead\u001b[0m\u001b[1;33m(\u001b[0m\u001b[1;33m)\u001b[0m\u001b[1;33m\u001b[0m\u001b[1;33m\u001b[0m\u001b[0m\n",
      "\u001b[1;32m~\\anaconda3\\envs\\PythonData\\lib\\site-packages\\pandas\\io\\parsers.py\u001b[0m in \u001b[0;36mread_csv\u001b[1;34m(filepath_or_buffer, sep, delimiter, header, names, index_col, usecols, squeeze, prefix, mangle_dupe_cols, dtype, engine, converters, true_values, false_values, skipinitialspace, skiprows, skipfooter, nrows, na_values, keep_default_na, na_filter, verbose, skip_blank_lines, parse_dates, infer_datetime_format, keep_date_col, date_parser, dayfirst, cache_dates, iterator, chunksize, compression, thousands, decimal, lineterminator, quotechar, quoting, doublequote, escapechar, comment, encoding, dialect, error_bad_lines, warn_bad_lines, delim_whitespace, low_memory, memory_map, float_precision)\u001b[0m\n\u001b[0;32m    684\u001b[0m     )\n\u001b[0;32m    685\u001b[0m \u001b[1;33m\u001b[0m\u001b[0m\n\u001b[1;32m--> 686\u001b[1;33m     \u001b[1;32mreturn\u001b[0m \u001b[0m_read\u001b[0m\u001b[1;33m(\u001b[0m\u001b[0mfilepath_or_buffer\u001b[0m\u001b[1;33m,\u001b[0m \u001b[0mkwds\u001b[0m\u001b[1;33m)\u001b[0m\u001b[1;33m\u001b[0m\u001b[1;33m\u001b[0m\u001b[0m\n\u001b[0m\u001b[0;32m    687\u001b[0m \u001b[1;33m\u001b[0m\u001b[0m\n\u001b[0;32m    688\u001b[0m \u001b[1;33m\u001b[0m\u001b[0m\n",
      "\u001b[1;32m~\\anaconda3\\envs\\PythonData\\lib\\site-packages\\pandas\\io\\parsers.py\u001b[0m in \u001b[0;36m_read\u001b[1;34m(filepath_or_buffer, kwds)\u001b[0m\n\u001b[0;32m    456\u001b[0m \u001b[1;33m\u001b[0m\u001b[0m\n\u001b[0;32m    457\u001b[0m     \u001b[1;32mtry\u001b[0m\u001b[1;33m:\u001b[0m\u001b[1;33m\u001b[0m\u001b[1;33m\u001b[0m\u001b[0m\n\u001b[1;32m--> 458\u001b[1;33m         \u001b[0mdata\u001b[0m \u001b[1;33m=\u001b[0m \u001b[0mparser\u001b[0m\u001b[1;33m.\u001b[0m\u001b[0mread\u001b[0m\u001b[1;33m(\u001b[0m\u001b[0mnrows\u001b[0m\u001b[1;33m)\u001b[0m\u001b[1;33m\u001b[0m\u001b[1;33m\u001b[0m\u001b[0m\n\u001b[0m\u001b[0;32m    459\u001b[0m     \u001b[1;32mfinally\u001b[0m\u001b[1;33m:\u001b[0m\u001b[1;33m\u001b[0m\u001b[1;33m\u001b[0m\u001b[0m\n\u001b[0;32m    460\u001b[0m         \u001b[0mparser\u001b[0m\u001b[1;33m.\u001b[0m\u001b[0mclose\u001b[0m\u001b[1;33m(\u001b[0m\u001b[1;33m)\u001b[0m\u001b[1;33m\u001b[0m\u001b[1;33m\u001b[0m\u001b[0m\n",
      "\u001b[1;32m~\\anaconda3\\envs\\PythonData\\lib\\site-packages\\pandas\\io\\parsers.py\u001b[0m in \u001b[0;36mread\u001b[1;34m(self, nrows)\u001b[0m\n\u001b[0;32m   1194\u001b[0m     \u001b[1;32mdef\u001b[0m \u001b[0mread\u001b[0m\u001b[1;33m(\u001b[0m\u001b[0mself\u001b[0m\u001b[1;33m,\u001b[0m \u001b[0mnrows\u001b[0m\u001b[1;33m=\u001b[0m\u001b[1;32mNone\u001b[0m\u001b[1;33m)\u001b[0m\u001b[1;33m:\u001b[0m\u001b[1;33m\u001b[0m\u001b[1;33m\u001b[0m\u001b[0m\n\u001b[0;32m   1195\u001b[0m         \u001b[0mnrows\u001b[0m \u001b[1;33m=\u001b[0m \u001b[0m_validate_integer\u001b[0m\u001b[1;33m(\u001b[0m\u001b[1;34m\"nrows\"\u001b[0m\u001b[1;33m,\u001b[0m \u001b[0mnrows\u001b[0m\u001b[1;33m)\u001b[0m\u001b[1;33m\u001b[0m\u001b[1;33m\u001b[0m\u001b[0m\n\u001b[1;32m-> 1196\u001b[1;33m         \u001b[0mret\u001b[0m \u001b[1;33m=\u001b[0m \u001b[0mself\u001b[0m\u001b[1;33m.\u001b[0m\u001b[0m_engine\u001b[0m\u001b[1;33m.\u001b[0m\u001b[0mread\u001b[0m\u001b[1;33m(\u001b[0m\u001b[0mnrows\u001b[0m\u001b[1;33m)\u001b[0m\u001b[1;33m\u001b[0m\u001b[1;33m\u001b[0m\u001b[0m\n\u001b[0m\u001b[0;32m   1197\u001b[0m \u001b[1;33m\u001b[0m\u001b[0m\n\u001b[0;32m   1198\u001b[0m         \u001b[1;31m# May alter columns / col_dict\u001b[0m\u001b[1;33m\u001b[0m\u001b[1;33m\u001b[0m\u001b[1;33m\u001b[0m\u001b[0m\n",
      "\u001b[1;32m~\\anaconda3\\envs\\PythonData\\lib\\site-packages\\pandas\\io\\parsers.py\u001b[0m in \u001b[0;36mread\u001b[1;34m(self, nrows)\u001b[0m\n\u001b[0;32m   2153\u001b[0m     \u001b[1;32mdef\u001b[0m \u001b[0mread\u001b[0m\u001b[1;33m(\u001b[0m\u001b[0mself\u001b[0m\u001b[1;33m,\u001b[0m \u001b[0mnrows\u001b[0m\u001b[1;33m=\u001b[0m\u001b[1;32mNone\u001b[0m\u001b[1;33m)\u001b[0m\u001b[1;33m:\u001b[0m\u001b[1;33m\u001b[0m\u001b[1;33m\u001b[0m\u001b[0m\n\u001b[0;32m   2154\u001b[0m         \u001b[1;32mtry\u001b[0m\u001b[1;33m:\u001b[0m\u001b[1;33m\u001b[0m\u001b[1;33m\u001b[0m\u001b[0m\n\u001b[1;32m-> 2155\u001b[1;33m             \u001b[0mdata\u001b[0m \u001b[1;33m=\u001b[0m \u001b[0mself\u001b[0m\u001b[1;33m.\u001b[0m\u001b[0m_reader\u001b[0m\u001b[1;33m.\u001b[0m\u001b[0mread\u001b[0m\u001b[1;33m(\u001b[0m\u001b[0mnrows\u001b[0m\u001b[1;33m)\u001b[0m\u001b[1;33m\u001b[0m\u001b[1;33m\u001b[0m\u001b[0m\n\u001b[0m\u001b[0;32m   2156\u001b[0m         \u001b[1;32mexcept\u001b[0m \u001b[0mStopIteration\u001b[0m\u001b[1;33m:\u001b[0m\u001b[1;33m\u001b[0m\u001b[1;33m\u001b[0m\u001b[0m\n\u001b[0;32m   2157\u001b[0m             \u001b[1;32mif\u001b[0m \u001b[0mself\u001b[0m\u001b[1;33m.\u001b[0m\u001b[0m_first_chunk\u001b[0m\u001b[1;33m:\u001b[0m\u001b[1;33m\u001b[0m\u001b[1;33m\u001b[0m\u001b[0m\n",
      "\u001b[1;32mpandas\\_libs\\parsers.pyx\u001b[0m in \u001b[0;36mpandas._libs.parsers.TextReader.read\u001b[1;34m()\u001b[0m\n",
      "\u001b[1;32mpandas\\_libs\\parsers.pyx\u001b[0m in \u001b[0;36mpandas._libs.parsers.TextReader._read_low_memory\u001b[1;34m()\u001b[0m\n",
      "\u001b[1;32mpandas\\_libs\\parsers.pyx\u001b[0m in \u001b[0;36mpandas._libs.parsers.TextReader._read_rows\u001b[1;34m()\u001b[0m\n",
      "\u001b[1;32mpandas\\_libs\\parsers.pyx\u001b[0m in \u001b[0;36mpandas._libs.parsers.TextReader._tokenize_rows\u001b[1;34m()\u001b[0m\n",
      "\u001b[1;32mpandas\\_libs\\parsers.pyx\u001b[0m in \u001b[0;36mpandas._libs.parsers.raise_parser_error\u001b[1;34m()\u001b[0m\n",
      "\u001b[1;31mParserError\u001b[0m: Error tokenizing data. C error: Expected 8 fields in line 1201, saw 9\n"
     ]
    }
   ],
   "source": [
    "### This is a common Jupyter Cell.  Do not modify without coordination. ###\n",
    "\n",
    "# Load clean data for Vaccination Allocation Data by state and time\n",
    "    # This data combines:\n",
    "        # COVID-19_Vaccine_Distribution_Allocations_by_Jurisdiction_-_Pfizer.csv\n",
    "        # COVID-19_Vaccine_Distribution_Allocations_by_Jurisdiction_-_Moderna.csv\n",
    "        # COVID-19_Vaccine_Distribution_Allocations_by_Jurisdiction_-_Janssen.csv\n",
    "\n",
    "Combined_Vaccine_df_path = r\"..\\data_manipulation\\clean_data\\Combined_Vaccine_df.csv\"\n",
    "vaccine_allocation_df = pd.read_csv(Combined_Vaccine_df_path)\n",
    "vaccine_allocation_df.head()"
   ]
  },
  {
   "cell_type": "code",
   "execution_count": 6,
   "metadata": {},
   "outputs": [
    {
     "output_type": "execute_result",
     "data": {
      "text/plain": [
       "   state_name state_code  population  median_age  household_income  \\\n",
       "0     Alabama         AL   4876250.0        39.0           50536.0   \n",
       "1      Alaska         AK    737068.0        34.3           77640.0   \n",
       "2     Arizona         AZ   7050299.0        37.7           58945.0   \n",
       "3    Arkansas         AR   2999370.0        38.1           47597.0   \n",
       "4  California         CA  39283497.0        36.5           75235.0   \n",
       "\n",
       "   per_capita_income  poverty_count  poverty_rate  unemployment_count  \\\n",
       "0            27928.0       795989.0     16.323794            132095.0   \n",
       "1            36787.0        76933.0     10.437707             26808.0   \n",
       "2            30694.0      1043764.0     14.804535            195905.0   \n",
       "3            26577.0       496260.0     16.545475             70481.0   \n",
       "4            36955.0      5149742.0     13.109174           1199233.0   \n",
       "\n",
       "   unemployment_rate  \n",
       "0           2.708946  \n",
       "1           3.637114  \n",
       "2           2.778676  \n",
       "3           2.349860  \n",
       "4           3.052765  "
      ],
      "text/html": "<div>\n<style scoped>\n    .dataframe tbody tr th:only-of-type {\n        vertical-align: middle;\n    }\n\n    .dataframe tbody tr th {\n        vertical-align: top;\n    }\n\n    .dataframe thead th {\n        text-align: right;\n    }\n</style>\n<table border=\"1\" class=\"dataframe\">\n  <thead>\n    <tr style=\"text-align: right;\">\n      <th></th>\n      <th>state_name</th>\n      <th>state_code</th>\n      <th>population</th>\n      <th>median_age</th>\n      <th>household_income</th>\n      <th>per_capita_income</th>\n      <th>poverty_count</th>\n      <th>poverty_rate</th>\n      <th>unemployment_count</th>\n      <th>unemployment_rate</th>\n    </tr>\n  </thead>\n  <tbody>\n    <tr>\n      <th>0</th>\n      <td>Alabama</td>\n      <td>AL</td>\n      <td>4876250.0</td>\n      <td>39.0</td>\n      <td>50536.0</td>\n      <td>27928.0</td>\n      <td>795989.0</td>\n      <td>16.323794</td>\n      <td>132095.0</td>\n      <td>2.708946</td>\n    </tr>\n    <tr>\n      <th>1</th>\n      <td>Alaska</td>\n      <td>AK</td>\n      <td>737068.0</td>\n      <td>34.3</td>\n      <td>77640.0</td>\n      <td>36787.0</td>\n      <td>76933.0</td>\n      <td>10.437707</td>\n      <td>26808.0</td>\n      <td>3.637114</td>\n    </tr>\n    <tr>\n      <th>2</th>\n      <td>Arizona</td>\n      <td>AZ</td>\n      <td>7050299.0</td>\n      <td>37.7</td>\n      <td>58945.0</td>\n      <td>30694.0</td>\n      <td>1043764.0</td>\n      <td>14.804535</td>\n      <td>195905.0</td>\n      <td>2.778676</td>\n    </tr>\n    <tr>\n      <th>3</th>\n      <td>Arkansas</td>\n      <td>AR</td>\n      <td>2999370.0</td>\n      <td>38.1</td>\n      <td>47597.0</td>\n      <td>26577.0</td>\n      <td>496260.0</td>\n      <td>16.545475</td>\n      <td>70481.0</td>\n      <td>2.349860</td>\n    </tr>\n    <tr>\n      <th>4</th>\n      <td>California</td>\n      <td>CA</td>\n      <td>39283497.0</td>\n      <td>36.5</td>\n      <td>75235.0</td>\n      <td>36955.0</td>\n      <td>5149742.0</td>\n      <td>13.109174</td>\n      <td>1199233.0</td>\n      <td>3.052765</td>\n    </tr>\n  </tbody>\n</table>\n</div>"
     },
     "metadata": {},
     "execution_count": 6
    }
   ],
   "source": [
    "### This is a common Jupyter Cell.  Do not modify without coordination. ###\n",
    "\n",
    "# Load clean data for State Population from Census reports\n",
    "    # This data collects census API request data by state:\n",
    "        # Population.csv\n",
    "\n",
    "Population_path = r\"..\\data_manipulation\\clean_data\\Population.csv\"\n",
    "census_df = pd.read_csv(Population_path)\n",
    "census_df.head()"
   ]
  },
  {
   "source": [],
   "cell_type": "markdown",
   "metadata": {}
  },
  {
   "source": [
    "# Group 1 Analysis"
   ],
   "cell_type": "markdown",
   "metadata": {}
  },
  {
   "source": [
    "## Line Plot showing National Summarized Vaccine Allocations by Date\n",
    "x-axis = Date (The data is reported weekly. To simplify the labels, convert the dates to a week number and then label by month.)\n",
    "\n",
    "y-axis =\n",
    "\n",
    "Line 1 - Pfizer + Moderna 1st dose allocation  \n",
    "Line 2 - Pfizer + Moderna 2nd dose allocation  \n",
    "Line 3 - J&J allocations  \n",
    "Note: y-axis data is a summation for all states  \n",
    "Legend labels = Pfizer + Moderna 1st dose, Pfizer + Moderna 2nd dose, J&J Single dose"
   ],
   "cell_type": "markdown",
   "metadata": {}
  },
  {
   "cell_type": "code",
   "execution_count": 1,
   "metadata": {},
   "outputs": [
    {
     "output_type": "error",
     "ename": "NameError",
     "evalue": "name 'pd' is not defined",
     "traceback": [
      "\u001b[1;31m---------------------------------------------------------------------------\u001b[0m",
      "\u001b[1;31mNameError\u001b[0m                                 Traceback (most recent call last)",
      "\u001b[1;32m<ipython-input-1-06c7b5cbd5a8>\u001b[0m in \u001b[0;36m<module>\u001b[1;34m\u001b[0m\n\u001b[1;32m----> 1\u001b[1;33m \u001b[0mvaccine_allocation_df\u001b[0m\u001b[1;33m[\u001b[0m\u001b[1;34m'Month'\u001b[0m\u001b[1;33m]\u001b[0m \u001b[1;33m=\u001b[0m \u001b[0mpd\u001b[0m\u001b[1;33m.\u001b[0m\u001b[0mDatetimeIndex\u001b[0m\u001b[1;33m(\u001b[0m\u001b[0mvaccine_allocation_df\u001b[0m\u001b[1;33m[\u001b[0m\u001b[1;34m'Week of Allocations'\u001b[0m\u001b[1;33m]\u001b[0m\u001b[1;33m)\u001b[0m\u001b[1;33m.\u001b[0m\u001b[0mmonth\u001b[0m\u001b[1;33m\u001b[0m\u001b[1;33m\u001b[0m\u001b[0m\n\u001b[0m\u001b[0;32m      2\u001b[0m \u001b[0mvaccine_allocation_df\u001b[0m\u001b[1;33m[\u001b[0m\u001b[1;34m'Year'\u001b[0m\u001b[1;33m]\u001b[0m \u001b[1;33m=\u001b[0m \u001b[0mpd\u001b[0m\u001b[1;33m.\u001b[0m\u001b[0mDatetimeIndex\u001b[0m\u001b[1;33m(\u001b[0m\u001b[0mvaccine_allocation_df\u001b[0m\u001b[1;33m[\u001b[0m\u001b[1;34m'Week of Allocations'\u001b[0m\u001b[1;33m]\u001b[0m\u001b[1;33m)\u001b[0m\u001b[1;33m.\u001b[0m\u001b[0myear\u001b[0m\u001b[1;33m\u001b[0m\u001b[1;33m\u001b[0m\u001b[0m\n\u001b[0;32m      3\u001b[0m \u001b[0mvaccine_allocation_df\u001b[0m\u001b[1;33m[\u001b[0m\u001b[1;34m'Dose-1'\u001b[0m\u001b[1;33m]\u001b[0m \u001b[1;33m=\u001b[0m \u001b[0mvaccine_allocation_df\u001b[0m\u001b[1;33m[\u001b[0m\u001b[1;34m'PFE Dose-1'\u001b[0m\u001b[1;33m]\u001b[0m \u001b[1;33m+\u001b[0m \u001b[0mvaccine_allocation_df\u001b[0m\u001b[1;33m[\u001b[0m\u001b[1;34m'MRNA Dose-1'\u001b[0m\u001b[1;33m]\u001b[0m\u001b[1;33m\u001b[0m\u001b[1;33m\u001b[0m\u001b[0m\n\u001b[0;32m      4\u001b[0m \u001b[0mvaccine_allocation_df\u001b[0m\u001b[1;33m[\u001b[0m\u001b[1;34m'Dose-2'\u001b[0m\u001b[1;33m]\u001b[0m \u001b[1;33m=\u001b[0m \u001b[0mvaccine_allocation_df\u001b[0m\u001b[1;33m[\u001b[0m\u001b[1;34m'PFE Dose-2'\u001b[0m\u001b[1;33m]\u001b[0m \u001b[1;33m+\u001b[0m \u001b[0mvaccine_allocation_df\u001b[0m\u001b[1;33m[\u001b[0m\u001b[1;34m'MRNA Dose-2'\u001b[0m\u001b[1;33m]\u001b[0m\u001b[1;33m\u001b[0m\u001b[1;33m\u001b[0m\u001b[0m\n\u001b[0;32m      5\u001b[0m \u001b[1;33m\u001b[0m\u001b[0m\n",
      "\u001b[1;31mNameError\u001b[0m: name 'pd' is not defined"
     ]
    }
   ],
   "source": [
    "vaccine_allocation_df['Month'] = pd.DatetimeIndex(vaccine_allocation_df['Week of Allocations']).month\n",
    "vaccine_allocation_df['Year'] = pd.DatetimeIndex(vaccine_allocation_df['Week of Allocations']).year\n",
    "vaccine_allocation_df['Dose-1'] = vaccine_allocation_df['PFE Dose-1'] + vaccine_allocation_df['MRNA Dose-1']\n",
    "vaccine_allocation_df['Dose-2'] = vaccine_allocation_df['PFE Dose-2'] + vaccine_allocation_df['MRNA Dose-2']\n",
    "\n",
    "plt.plot(vaccine_allocation_df['Month'], vaccine_allocation_df['Dose-1'])\n",
    "\n",
    "\n",
    "\n"
   ]
  },
  {
   "source": [
    "## Line Plot showing National Vaccine Allocations by Date\n",
    "x-axis = Date (The data is reported weekly. To simplify the labels, convert the dates to a week number and then label by month.)\n",
    "\n",
    "y-axis =\n",
    "\n",
    "Line 1 - Pfizer 1st dose allocation  \n",
    "Line 2 - Moderna 1st dose allocations  \n",
    "Line 3 - Pfizer 2nd dose allocations  \n",
    "Line 4 - Moderna 2nd dose allocations  \n",
    "Line 5 - J&J allocations  \n",
    "Note: y-axis data is a summation for all states  \n",
    "Legend labels = Pfizer 1st dose, Moderna 1st dose, Pfizer 2nd dose, Moderna 2nd dose, J&J Single dose"
   ],
   "cell_type": "markdown",
   "metadata": {}
  },
  {
   "source": [
    "## Line Plot showing Individual State (Arizona) Vaccine Allocations by Date  \n",
    "x-axis = Date (The data is reported weekly. To simplify the labels, convert the dates to a week number and then label by month.)\n",
    "\n",
    "y-axis =\n",
    "\n",
    "Line 1 - Pfizer 1st dose allocation  \n",
    "Line 2 - Moderna 1st dose allocations  \n",
    "Line 3 - Pfizer 2nd dose allocations  \n",
    "Line 4 - Moderna 2nd dose allocations  \n",
    "Line 5 - J&J allocations  \n",
    "Legend labels = Pfizer 1st dose, Moderna 1st dose, Pfizer 2nd dose, Moderna 2nd dose, J&J Single dose"
   ],
   "cell_type": "markdown",
   "metadata": {}
  },
  {
   "source": [
    "## Bonus Line Plot showing Individual State (User Choice) Vaccine Allocations by Date\n",
    "x-axis = Date (The data is reported weekly. To simplify the labels, convert the dates to a week number and then label by month.)\n",
    "\n",
    "y-axis =\n",
    "\n",
    "Line 1 - Pfizer 1st dose allocation  \n",
    "Line 2 - Moderna 1st dose allocations  \n",
    "Line 3 - Pfizer 2nd dose allocations  \n",
    "Line 4 - Moderna 2nd dose allocations  \n",
    "Line 5 - J&J allocations  \n",
    "Legend labels = Pfizer 1st dose, Moderna 1st dose, Pfizer 2nd dose, Moderna 2nd dose, J&J Single dose"
   ],
   "cell_type": "markdown",
   "metadata": {}
  }
 ]
}