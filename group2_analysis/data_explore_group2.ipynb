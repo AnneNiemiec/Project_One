{
 "metadata": {
  "language_info": {
   "codemirror_mode": {
    "name": "ipython",
    "version": 3
   },
   "file_extension": ".py",
   "mimetype": "text/x-python",
   "name": "python",
   "nbconvert_exporter": "python",
   "pygments_lexer": "ipython3",
   "version": "3.7.9"
  },
  "orig_nbformat": 2,
  "kernelspec": {
   "name": "python379jvsc74a57bd0972b5e8961cf972370136eb15a5ce67c848ddf5ca1c37bd5b3d0153e753bc276",
   "display_name": "Python 3.7.9 64-bit ('PythonData': conda)"
  }
 },
 "nbformat": 4,
 "nbformat_minor": 2,
 "cells": [
  {
   "source": [
    "# Covid-19 Vaccine Allocations and Case Counts Analysis\n",
    "----\n",
    "\n",
    "Written in the Python 3.7.9 Environment\n",
    "\n",
    "By Tarak Patel, Nicole Lund and Anne Niemiec.\n",
    "\n",
    "Common Jupyter cells have been notated for ease of merging after individuals their analysis.\n",
    "\n",
    "Individual working files will be merged using https://pypi.org/project/nbmerge/"
   ],
   "cell_type": "markdown",
   "metadata": {}
  },
  {
   "cell_type": "code",
   "execution_count": 4,
   "metadata": {},
   "outputs": [],
   "source": [
    "### This is a common Jupyter Cell.  Do not modify without coordination. ###\n",
    "\n",
    "# Load Dependencies\n",
    "\n",
    "# Data Organization & Collection\n",
    "import pandas as pd\n",
    "import requests\n",
    "import json\n",
    "from census import Census\n",
    "\n",
    "# Data Visualization & Analysis\n",
    "import matplotlib.pyplot as plt\n",
    "import numpy as np\n",
    "import scipy.stats as st\n",
    "import gmaps\n",
    "\n",
    "# General Navigation\n",
    "import time\n",
    "import os\n",
    "import sys"
   ]
  },
  {
   "cell_type": "code",
   "execution_count": 10,
   "metadata": {},
   "outputs": [],
   "source": [
    "# Define users api key file folder location\n",
    "api_key_path = r\"C:\\Users\\nlund\\Documents\\GitHub\\untracked_files\""
   ]
  },
  {
   "cell_type": "code",
   "execution_count": 11,
   "metadata": {},
   "outputs": [],
   "source": [
    "### This is a common Jupyter Cell.  Do not modify without coordination. ###\n",
    "\n",
    "# Add API key file to system path\n",
    "sys.path.append(api_key_path)\n",
    "\n",
    "# Import Census API Key\n",
    "from untracked_api_keys import census_key\n",
    "c = Census(census_key, year=2019)\n",
    "\n",
    "# Import Google API key\n",
    "from untracked_api_keys import g_key"
   ]
  },
  {
   "cell_type": "code",
   "execution_count": 14,
   "metadata": {},
   "outputs": [
    {
     "output_type": "execute_result",
     "data": {
      "text/plain": [
       "   Unnamed: 0 submission_date state  tot_cases  conf_cases  prob_cases  \\\n",
       "0           0       1/22/2020    AK        0.0         0.0         0.0   \n",
       "1           1       1/23/2020    AK        0.0         0.0         0.0   \n",
       "2           2       1/24/2020    AK        0.0         0.0         0.0   \n",
       "3           3       1/25/2020    AK        0.0         0.0         0.0   \n",
       "4           4       1/26/2020    AK        0.0         0.0         0.0   \n",
       "\n",
       "   new_case  pnew_case  tot_death  conf_death  ...  new_death  pnew_death  \\\n",
       "0       0.0        0.0        0.0         0.0  ...        0.0         0.0   \n",
       "1       0.0        0.0        0.0         0.0  ...        0.0         0.0   \n",
       "2       0.0        0.0        0.0         0.0  ...        0.0         0.0   \n",
       "3       0.0        0.0        0.0         0.0  ...        0.0         0.0   \n",
       "4       0.0        0.0        0.0         0.0  ...        0.0         0.0   \n",
       "\n",
       "        created_at consent_cases consent_deaths State/District Abbreviation  \\\n",
       "0  3/26/2020 16:22             0              0         Alaska       Alaska   \n",
       "1  3/26/2020 16:22             0              0         Alaska       Alaska   \n",
       "2  3/26/2020 16:22             0              0         Alaska       Alaska   \n",
       "3  3/26/2020 16:22             0              0         Alaska       Alaska   \n",
       "4  3/26/2020 16:22             0              0         Alaska       Alaska   \n",
       "\n",
       "  Postal Code Month  Year  \n",
       "0          AK     1  2020  \n",
       "1          AK     1  2020  \n",
       "2          AK     1  2020  \n",
       "3          AK     1  2020  \n",
       "4          AK     1  2020  \n",
       "\n",
       "[5 rows x 21 columns]"
      ],
      "text/html": "<div>\n<style scoped>\n    .dataframe tbody tr th:only-of-type {\n        vertical-align: middle;\n    }\n\n    .dataframe tbody tr th {\n        vertical-align: top;\n    }\n\n    .dataframe thead th {\n        text-align: right;\n    }\n</style>\n<table border=\"1\" class=\"dataframe\">\n  <thead>\n    <tr style=\"text-align: right;\">\n      <th></th>\n      <th>Unnamed: 0</th>\n      <th>submission_date</th>\n      <th>state</th>\n      <th>tot_cases</th>\n      <th>conf_cases</th>\n      <th>prob_cases</th>\n      <th>new_case</th>\n      <th>pnew_case</th>\n      <th>tot_death</th>\n      <th>conf_death</th>\n      <th>...</th>\n      <th>new_death</th>\n      <th>pnew_death</th>\n      <th>created_at</th>\n      <th>consent_cases</th>\n      <th>consent_deaths</th>\n      <th>State/District</th>\n      <th>Abbreviation</th>\n      <th>Postal Code</th>\n      <th>Month</th>\n      <th>Year</th>\n    </tr>\n  </thead>\n  <tbody>\n    <tr>\n      <th>0</th>\n      <td>0</td>\n      <td>1/22/2020</td>\n      <td>AK</td>\n      <td>0.0</td>\n      <td>0.0</td>\n      <td>0.0</td>\n      <td>0.0</td>\n      <td>0.0</td>\n      <td>0.0</td>\n      <td>0.0</td>\n      <td>...</td>\n      <td>0.0</td>\n      <td>0.0</td>\n      <td>3/26/2020 16:22</td>\n      <td>0</td>\n      <td>0</td>\n      <td>Alaska</td>\n      <td>Alaska</td>\n      <td>AK</td>\n      <td>1</td>\n      <td>2020</td>\n    </tr>\n    <tr>\n      <th>1</th>\n      <td>1</td>\n      <td>1/23/2020</td>\n      <td>AK</td>\n      <td>0.0</td>\n      <td>0.0</td>\n      <td>0.0</td>\n      <td>0.0</td>\n      <td>0.0</td>\n      <td>0.0</td>\n      <td>0.0</td>\n      <td>...</td>\n      <td>0.0</td>\n      <td>0.0</td>\n      <td>3/26/2020 16:22</td>\n      <td>0</td>\n      <td>0</td>\n      <td>Alaska</td>\n      <td>Alaska</td>\n      <td>AK</td>\n      <td>1</td>\n      <td>2020</td>\n    </tr>\n    <tr>\n      <th>2</th>\n      <td>2</td>\n      <td>1/24/2020</td>\n      <td>AK</td>\n      <td>0.0</td>\n      <td>0.0</td>\n      <td>0.0</td>\n      <td>0.0</td>\n      <td>0.0</td>\n      <td>0.0</td>\n      <td>0.0</td>\n      <td>...</td>\n      <td>0.0</td>\n      <td>0.0</td>\n      <td>3/26/2020 16:22</td>\n      <td>0</td>\n      <td>0</td>\n      <td>Alaska</td>\n      <td>Alaska</td>\n      <td>AK</td>\n      <td>1</td>\n      <td>2020</td>\n    </tr>\n    <tr>\n      <th>3</th>\n      <td>3</td>\n      <td>1/25/2020</td>\n      <td>AK</td>\n      <td>0.0</td>\n      <td>0.0</td>\n      <td>0.0</td>\n      <td>0.0</td>\n      <td>0.0</td>\n      <td>0.0</td>\n      <td>0.0</td>\n      <td>...</td>\n      <td>0.0</td>\n      <td>0.0</td>\n      <td>3/26/2020 16:22</td>\n      <td>0</td>\n      <td>0</td>\n      <td>Alaska</td>\n      <td>Alaska</td>\n      <td>AK</td>\n      <td>1</td>\n      <td>2020</td>\n    </tr>\n    <tr>\n      <th>4</th>\n      <td>4</td>\n      <td>1/26/2020</td>\n      <td>AK</td>\n      <td>0.0</td>\n      <td>0.0</td>\n      <td>0.0</td>\n      <td>0.0</td>\n      <td>0.0</td>\n      <td>0.0</td>\n      <td>0.0</td>\n      <td>...</td>\n      <td>0.0</td>\n      <td>0.0</td>\n      <td>3/26/2020 16:22</td>\n      <td>0</td>\n      <td>0</td>\n      <td>Alaska</td>\n      <td>Alaska</td>\n      <td>AK</td>\n      <td>1</td>\n      <td>2020</td>\n    </tr>\n  </tbody>\n</table>\n<p>5 rows × 21 columns</p>\n</div>"
     },
     "metadata": {},
     "execution_count": 14
    }
   ],
   "source": [
    "### This is a common Jupyter Cell.  Do not modify without coordination. ###\n",
    "\n",
    "# Load clean data for Case and Death Counts by state and time\n",
    "    # This data combines:\n",
    "        # United_States_COVID-19_Cases_and_Deaths_by_State_over_Time.csv'\n",
    "        # state_code.csv\n",
    "\n",
    "c_d_withstate_df_path = r\"..\\data_manipulation\\clean_data\\c_d_withstate_df.csv\"\n",
    "cases_deaths_df = pd.read_csv(c_d_withstate_df_path)\n",
    "cases_deaths_df.head()"
   ]
  },
  {
   "cell_type": "code",
   "execution_count": 17,
   "metadata": {},
   "outputs": [
    {
     "output_type": "execute_result",
     "data": {
      "text/plain": [
       "   Unnamed: 0   Jurisdiction Week of Allocations  1st Dose Allocations_x  \\\n",
       "0           0    Connecticut          04/19/2021                   54990   \n",
       "1           1          Maine          04/19/2021                   21060   \n",
       "2           2  Massachusetts          04/19/2021                  105300   \n",
       "3           3  New Hampshire          04/19/2021                   21060   \n",
       "4           4   Rhode Island          04/19/2021                   16380   \n",
       "\n",
       "   2nd Dose Allocations_x  1st Dose Allocations_y  2nd Dose Allocations_y  \\\n",
       "0                   54990                 40400.0                 40400.0   \n",
       "1                   21060                 15400.0                 15400.0   \n",
       "2                  105300                 77700.0                 77700.0   \n",
       "3                   21060                 15500.0                 15500.0   \n",
       "4                   16380                 12100.0                 12100.0   \n",
       "\n",
       "   1st Dose Allocations  \n",
       "0                   NaN  \n",
       "1                   NaN  \n",
       "2                   NaN  \n",
       "3                   NaN  \n",
       "4                   NaN  "
      ],
      "text/html": "<div>\n<style scoped>\n    .dataframe tbody tr th:only-of-type {\n        vertical-align: middle;\n    }\n\n    .dataframe tbody tr th {\n        vertical-align: top;\n    }\n\n    .dataframe thead th {\n        text-align: right;\n    }\n</style>\n<table border=\"1\" class=\"dataframe\">\n  <thead>\n    <tr style=\"text-align: right;\">\n      <th></th>\n      <th>Unnamed: 0</th>\n      <th>Jurisdiction</th>\n      <th>Week of Allocations</th>\n      <th>1st Dose Allocations_x</th>\n      <th>2nd Dose Allocations_x</th>\n      <th>1st Dose Allocations_y</th>\n      <th>2nd Dose Allocations_y</th>\n      <th>1st Dose Allocations</th>\n    </tr>\n  </thead>\n  <tbody>\n    <tr>\n      <th>0</th>\n      <td>0</td>\n      <td>Connecticut</td>\n      <td>04/19/2021</td>\n      <td>54990</td>\n      <td>54990</td>\n      <td>40400.0</td>\n      <td>40400.0</td>\n      <td>NaN</td>\n    </tr>\n    <tr>\n      <th>1</th>\n      <td>1</td>\n      <td>Maine</td>\n      <td>04/19/2021</td>\n      <td>21060</td>\n      <td>21060</td>\n      <td>15400.0</td>\n      <td>15400.0</td>\n      <td>NaN</td>\n    </tr>\n    <tr>\n      <th>2</th>\n      <td>2</td>\n      <td>Massachusetts</td>\n      <td>04/19/2021</td>\n      <td>105300</td>\n      <td>105300</td>\n      <td>77700.0</td>\n      <td>77700.0</td>\n      <td>NaN</td>\n    </tr>\n    <tr>\n      <th>3</th>\n      <td>3</td>\n      <td>New Hampshire</td>\n      <td>04/19/2021</td>\n      <td>21060</td>\n      <td>21060</td>\n      <td>15500.0</td>\n      <td>15500.0</td>\n      <td>NaN</td>\n    </tr>\n    <tr>\n      <th>4</th>\n      <td>4</td>\n      <td>Rhode Island</td>\n      <td>04/19/2021</td>\n      <td>16380</td>\n      <td>16380</td>\n      <td>12100.0</td>\n      <td>12100.0</td>\n      <td>NaN</td>\n    </tr>\n  </tbody>\n</table>\n</div>"
     },
     "metadata": {},
     "execution_count": 17
    }
   ],
   "source": [
    "### This is a common Jupyter Cell.  Do not modify without coordination. ###\n",
    "\n",
    "# Load clean data for Vaccination Allocation Data by state and time\n",
    "    # This data combines:\n",
    "        # COVID-19_Vaccine_Distribution_Allocations_by_Jurisdiction_-_Pfizer.csv\n",
    "        # COVID-19_Vaccine_Distribution_Allocations_by_Jurisdiction_-_Moderna.csv\n",
    "        # COVID-19_Vaccine_Distribution_Allocations_by_Jurisdiction_-_Janssen.csv\n",
    "\n",
    "Combined_Vaccine_df_path = r\"..\\data_manipulation\\clean_data\\Combined_Vaccine_df.csv\"\n",
    "vaccine_allocation_df = pd.read_csv(Combined_Vaccine_df_path)\n",
    "vaccine_allocation_df.head()"
   ]
  },
  {
   "cell_type": "code",
   "execution_count": 16,
   "metadata": {},
   "outputs": [
    {
     "output_type": "execute_result",
     "data": {
      "text/plain": [
       "   Unnamed: 0        Name  Population  Median Age  Household Income  \\\n",
       "0           0     Alabama   4876250.0        39.0           50536.0   \n",
       "1           1      Alaska    737068.0        34.3           77640.0   \n",
       "2           2     Arizona   7050299.0        37.7           58945.0   \n",
       "3           3    Arkansas   2999370.0        38.1           47597.0   \n",
       "4           4  California  39283497.0        36.5           75235.0   \n",
       "\n",
       "   Per Capita Income  Poverty Count  Poverty Rate  Unemployment Count  \\\n",
       "0            27928.0       795989.0     16.323794            132095.0   \n",
       "1            36787.0        76933.0     10.437707             26808.0   \n",
       "2            30694.0      1043764.0     14.804535            195905.0   \n",
       "3            26577.0       496260.0     16.545475             70481.0   \n",
       "4            36955.0      5149742.0     13.109174           1199233.0   \n",
       "\n",
       "   Unemployment Rate  \n",
       "0           2.708946  \n",
       "1           3.637114  \n",
       "2           2.778676  \n",
       "3           2.349860  \n",
       "4           3.052765  "
      ],
      "text/html": "<div>\n<style scoped>\n    .dataframe tbody tr th:only-of-type {\n        vertical-align: middle;\n    }\n\n    .dataframe tbody tr th {\n        vertical-align: top;\n    }\n\n    .dataframe thead th {\n        text-align: right;\n    }\n</style>\n<table border=\"1\" class=\"dataframe\">\n  <thead>\n    <tr style=\"text-align: right;\">\n      <th></th>\n      <th>Unnamed: 0</th>\n      <th>Name</th>\n      <th>Population</th>\n      <th>Median Age</th>\n      <th>Household Income</th>\n      <th>Per Capita Income</th>\n      <th>Poverty Count</th>\n      <th>Poverty Rate</th>\n      <th>Unemployment Count</th>\n      <th>Unemployment Rate</th>\n    </tr>\n  </thead>\n  <tbody>\n    <tr>\n      <th>0</th>\n      <td>0</td>\n      <td>Alabama</td>\n      <td>4876250.0</td>\n      <td>39.0</td>\n      <td>50536.0</td>\n      <td>27928.0</td>\n      <td>795989.0</td>\n      <td>16.323794</td>\n      <td>132095.0</td>\n      <td>2.708946</td>\n    </tr>\n    <tr>\n      <th>1</th>\n      <td>1</td>\n      <td>Alaska</td>\n      <td>737068.0</td>\n      <td>34.3</td>\n      <td>77640.0</td>\n      <td>36787.0</td>\n      <td>76933.0</td>\n      <td>10.437707</td>\n      <td>26808.0</td>\n      <td>3.637114</td>\n    </tr>\n    <tr>\n      <th>2</th>\n      <td>2</td>\n      <td>Arizona</td>\n      <td>7050299.0</td>\n      <td>37.7</td>\n      <td>58945.0</td>\n      <td>30694.0</td>\n      <td>1043764.0</td>\n      <td>14.804535</td>\n      <td>195905.0</td>\n      <td>2.778676</td>\n    </tr>\n    <tr>\n      <th>3</th>\n      <td>3</td>\n      <td>Arkansas</td>\n      <td>2999370.0</td>\n      <td>38.1</td>\n      <td>47597.0</td>\n      <td>26577.0</td>\n      <td>496260.0</td>\n      <td>16.545475</td>\n      <td>70481.0</td>\n      <td>2.349860</td>\n    </tr>\n    <tr>\n      <th>4</th>\n      <td>4</td>\n      <td>California</td>\n      <td>39283497.0</td>\n      <td>36.5</td>\n      <td>75235.0</td>\n      <td>36955.0</td>\n      <td>5149742.0</td>\n      <td>13.109174</td>\n      <td>1199233.0</td>\n      <td>3.052765</td>\n    </tr>\n  </tbody>\n</table>\n</div>"
     },
     "metadata": {},
     "execution_count": 16
    }
   ],
   "source": [
    "### This is a common Jupyter Cell.  Do not modify without coordination. ###\n",
    "\n",
    "# Load clean data for State Population from Census reports\n",
    "    # This data collects census API request data by state:\n",
    "        # Population.csv\n",
    "\n",
    "Population_path = r\"..\\data_manipulation\\clean_data\\Population.csv\"\n",
    "census_df = pd.read_csv(Population_path)\n",
    "census_df.head()"
   ]
  },
  {
   "source": [],
   "cell_type": "markdown",
   "metadata": {}
  },
  {
   "source": [
    "# Group 2 Analysis"
   ],
   "cell_type": "markdown",
   "metadata": {}
  },
  {
   "cell_type": "code",
   "execution_count": null,
   "metadata": {},
   "outputs": [],
   "source": []
  }
 ]
}