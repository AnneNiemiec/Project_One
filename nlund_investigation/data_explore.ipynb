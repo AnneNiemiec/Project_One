{
 "metadata": {
  "language_info": {
   "codemirror_mode": {
    "name": "ipython",
    "version": 3
   },
   "file_extension": ".py",
   "mimetype": "text/x-python",
   "name": "python",
   "nbconvert_exporter": "python",
   "pygments_lexer": "ipython3",
   "version": "3.7.9"
  },
  "orig_nbformat": 2,
  "kernelspec": {
   "name": "python379jvsc74a57bd0972b5e8961cf972370136eb15a5ce67c848ddf5ca1c37bd5b3d0153e753bc276",
   "display_name": "Python 3.7.9 64-bit ('PythonData': conda)"
  }
 },
 "nbformat": 4,
 "nbformat_minor": 2,
 "cells": [
  {
   "cell_type": "code",
   "execution_count": 1,
   "metadata": {},
   "outputs": [],
   "source": [
    "# Load Dependencies\n",
    "\n",
    "# Data Organization & Collection\n",
    "import pandas as pd\n",
    "import requests\n",
    "import json\n",
    "\n",
    "# Data Visualization & Analysis\n",
    "import matplotlib.pyplot as plt\n",
    "import numpy as np\n",
    "from scipy.stats import linregress\n",
    "import gmaps\n",
    "\n",
    "# General Navigation\n",
    "import time\n",
    "import os\n",
    "import sys\n",
    "\n",
    "\n",
    "\n",
    "# Import API keys if needed\n",
    "# sys.path.append(r\"C:\\Users\\nlund\\Documents\\GitHub\\untracked_files\")\n",
    "# from api_keys_NRL import weather_api_key"
   ]
  },
  {
   "cell_type": "code",
   "execution_count": 26,
   "metadata": {},
   "outputs": [
    {
     "output_type": "execute_result",
     "data": {
      "text/plain": [
       "   Unnamed: 0 submission_date state  tot_cases  conf_cases  prob_cases  \\\n",
       "0           0       1/22/2020    AK        0.0         0.0         0.0   \n",
       "1           1       1/23/2020    AK        0.0         0.0         0.0   \n",
       "2           2       1/24/2020    AK        0.0         0.0         0.0   \n",
       "3           3       1/25/2020    AK        0.0         0.0         0.0   \n",
       "4           4       1/26/2020    AK        0.0         0.0         0.0   \n",
       "\n",
       "   new_case  pnew_case  tot_death  conf_death  ...  new_death  pnew_death  \\\n",
       "0       0.0        0.0        0.0         0.0  ...        0.0         0.0   \n",
       "1       0.0        0.0        0.0         0.0  ...        0.0         0.0   \n",
       "2       0.0        0.0        0.0         0.0  ...        0.0         0.0   \n",
       "3       0.0        0.0        0.0         0.0  ...        0.0         0.0   \n",
       "4       0.0        0.0        0.0         0.0  ...        0.0         0.0   \n",
       "\n",
       "        created_at consent_cases consent_deaths State/District Abbreviation  \\\n",
       "0  3/26/2020 16:22             0              0         Alaska       Alaska   \n",
       "1  3/26/2020 16:22             0              0         Alaska       Alaska   \n",
       "2  3/26/2020 16:22             0              0         Alaska       Alaska   \n",
       "3  3/26/2020 16:22             0              0         Alaska       Alaska   \n",
       "4  3/26/2020 16:22             0              0         Alaska       Alaska   \n",
       "\n",
       "  Postal Code Month  Year  \n",
       "0          AK     1  2020  \n",
       "1          AK     1  2020  \n",
       "2          AK     1  2020  \n",
       "3          AK     1  2020  \n",
       "4          AK     1  2020  \n",
       "\n",
       "[5 rows x 21 columns]"
      ],
      "text/html": "<div>\n<style scoped>\n    .dataframe tbody tr th:only-of-type {\n        vertical-align: middle;\n    }\n\n    .dataframe tbody tr th {\n        vertical-align: top;\n    }\n\n    .dataframe thead th {\n        text-align: right;\n    }\n</style>\n<table border=\"1\" class=\"dataframe\">\n  <thead>\n    <tr style=\"text-align: right;\">\n      <th></th>\n      <th>Unnamed: 0</th>\n      <th>submission_date</th>\n      <th>state</th>\n      <th>tot_cases</th>\n      <th>conf_cases</th>\n      <th>prob_cases</th>\n      <th>new_case</th>\n      <th>pnew_case</th>\n      <th>tot_death</th>\n      <th>conf_death</th>\n      <th>...</th>\n      <th>new_death</th>\n      <th>pnew_death</th>\n      <th>created_at</th>\n      <th>consent_cases</th>\n      <th>consent_deaths</th>\n      <th>State/District</th>\n      <th>Abbreviation</th>\n      <th>Postal Code</th>\n      <th>Month</th>\n      <th>Year</th>\n    </tr>\n  </thead>\n  <tbody>\n    <tr>\n      <th>0</th>\n      <td>0</td>\n      <td>1/22/2020</td>\n      <td>AK</td>\n      <td>0.0</td>\n      <td>0.0</td>\n      <td>0.0</td>\n      <td>0.0</td>\n      <td>0.0</td>\n      <td>0.0</td>\n      <td>0.0</td>\n      <td>...</td>\n      <td>0.0</td>\n      <td>0.0</td>\n      <td>3/26/2020 16:22</td>\n      <td>0</td>\n      <td>0</td>\n      <td>Alaska</td>\n      <td>Alaska</td>\n      <td>AK</td>\n      <td>1</td>\n      <td>2020</td>\n    </tr>\n    <tr>\n      <th>1</th>\n      <td>1</td>\n      <td>1/23/2020</td>\n      <td>AK</td>\n      <td>0.0</td>\n      <td>0.0</td>\n      <td>0.0</td>\n      <td>0.0</td>\n      <td>0.0</td>\n      <td>0.0</td>\n      <td>0.0</td>\n      <td>...</td>\n      <td>0.0</td>\n      <td>0.0</td>\n      <td>3/26/2020 16:22</td>\n      <td>0</td>\n      <td>0</td>\n      <td>Alaska</td>\n      <td>Alaska</td>\n      <td>AK</td>\n      <td>1</td>\n      <td>2020</td>\n    </tr>\n    <tr>\n      <th>2</th>\n      <td>2</td>\n      <td>1/24/2020</td>\n      <td>AK</td>\n      <td>0.0</td>\n      <td>0.0</td>\n      <td>0.0</td>\n      <td>0.0</td>\n      <td>0.0</td>\n      <td>0.0</td>\n      <td>0.0</td>\n      <td>...</td>\n      <td>0.0</td>\n      <td>0.0</td>\n      <td>3/26/2020 16:22</td>\n      <td>0</td>\n      <td>0</td>\n      <td>Alaska</td>\n      <td>Alaska</td>\n      <td>AK</td>\n      <td>1</td>\n      <td>2020</td>\n    </tr>\n    <tr>\n      <th>3</th>\n      <td>3</td>\n      <td>1/25/2020</td>\n      <td>AK</td>\n      <td>0.0</td>\n      <td>0.0</td>\n      <td>0.0</td>\n      <td>0.0</td>\n      <td>0.0</td>\n      <td>0.0</td>\n      <td>0.0</td>\n      <td>...</td>\n      <td>0.0</td>\n      <td>0.0</td>\n      <td>3/26/2020 16:22</td>\n      <td>0</td>\n      <td>0</td>\n      <td>Alaska</td>\n      <td>Alaska</td>\n      <td>AK</td>\n      <td>1</td>\n      <td>2020</td>\n    </tr>\n    <tr>\n      <th>4</th>\n      <td>4</td>\n      <td>1/26/2020</td>\n      <td>AK</td>\n      <td>0.0</td>\n      <td>0.0</td>\n      <td>0.0</td>\n      <td>0.0</td>\n      <td>0.0</td>\n      <td>0.0</td>\n      <td>0.0</td>\n      <td>...</td>\n      <td>0.0</td>\n      <td>0.0</td>\n      <td>3/26/2020 16:22</td>\n      <td>0</td>\n      <td>0</td>\n      <td>Alaska</td>\n      <td>Alaska</td>\n      <td>AK</td>\n      <td>1</td>\n      <td>2020</td>\n    </tr>\n  </tbody>\n</table>\n<p>5 rows × 21 columns</p>\n</div>"
     },
     "metadata": {},
     "execution_count": 26
    }
   ],
   "source": [
    "# Load data Case and Death Counts by time\n",
    "    # United_States_COVID-19_Cases_and_Deaths_by_State_over_Time.csv'\n",
    "    # state_code.csv\n",
    "\n",
    "c_d_withstate_df_path = r\"..\\source_data\\new_dataframes\\c_d_withstate_df.csv\"\n",
    "c_d_withstate_df = pd.read_csv(c_d_withstate_df_path)\n",
    "\n",
    "# print(c_d_withstate_df.columns.tolist())\n",
    "\n",
    "\"\"\" \n",
    "Variables in this DataFrame\n",
    "\n",
    "'Unnamed: 0', == Index field\n",
    "'submission_date', === Date the data is reported\n",
    "'state', == State Acronymn\n",
    "'tot_cases', ==  Cumulative case count\n",
    "'conf_cases', == Cumulative Confirmed case count\n",
    "'prob_cases', == Cumulative Suspected case count\n",
    "'new_case',  == New cases since the previously reported information\n",
    "'pnew_case',  == ???\n",
    "'tot_death',  ==  Cumulative death count\n",
    "'conf_death',  == Cumulative Confirmed death count\n",
    "'prob_death',  == Cumulative Suspected death count\n",
    "'new_death',  == New deaths since the previously reported information\n",
    "'pnew_death',  == ???\n",
    "'created_at',  == Reported Date and Time\n",
    "'consent_cases',  == ???\n",
    "'consent_deaths',  == ???\n",
    "'State/District',  == State full name\n",
    "'Abbreviation',  == State Abbreviation\n",
    "'Postal Code',  == State Acronym\n",
    "'Month',  == Report Month\n",
    "'Year'] == Report Year \n",
    "\"\"\"\n",
    "\n",
    "c_d_withstate_df.head()"
   ]
  },
  {
   "cell_type": "code",
   "execution_count": 27,
   "metadata": {},
   "outputs": [
    {
     "output_type": "execute_result",
     "data": {
      "text/plain": [
       "   Unnamed: 0   Jurisdiction Week of Allocations  1st Dose Allocations_x  \\\n",
       "0           0    Connecticut          04/19/2021                   54990   \n",
       "1           1          Maine          04/19/2021                   21060   \n",
       "2           2  Massachusetts          04/19/2021                  105300   \n",
       "3           3  New Hampshire          04/19/2021                   21060   \n",
       "4           4   Rhode Island          04/19/2021                   16380   \n",
       "\n",
       "   2nd Dose Allocations_x  1st Dose Allocations_y  2nd Dose Allocations_y  \\\n",
       "0                   54990                 40400.0                 40400.0   \n",
       "1                   21060                 15400.0                 15400.0   \n",
       "2                  105300                 77700.0                 77700.0   \n",
       "3                   21060                 15500.0                 15500.0   \n",
       "4                   16380                 12100.0                 12100.0   \n",
       "\n",
       "   1st Dose Allocations  \n",
       "0                   NaN  \n",
       "1                   NaN  \n",
       "2                   NaN  \n",
       "3                   NaN  \n",
       "4                   NaN  "
      ],
      "text/html": "<div>\n<style scoped>\n    .dataframe tbody tr th:only-of-type {\n        vertical-align: middle;\n    }\n\n    .dataframe tbody tr th {\n        vertical-align: top;\n    }\n\n    .dataframe thead th {\n        text-align: right;\n    }\n</style>\n<table border=\"1\" class=\"dataframe\">\n  <thead>\n    <tr style=\"text-align: right;\">\n      <th></th>\n      <th>Unnamed: 0</th>\n      <th>Jurisdiction</th>\n      <th>Week of Allocations</th>\n      <th>1st Dose Allocations_x</th>\n      <th>2nd Dose Allocations_x</th>\n      <th>1st Dose Allocations_y</th>\n      <th>2nd Dose Allocations_y</th>\n      <th>1st Dose Allocations</th>\n    </tr>\n  </thead>\n  <tbody>\n    <tr>\n      <th>0</th>\n      <td>0</td>\n      <td>Connecticut</td>\n      <td>04/19/2021</td>\n      <td>54990</td>\n      <td>54990</td>\n      <td>40400.0</td>\n      <td>40400.0</td>\n      <td>NaN</td>\n    </tr>\n    <tr>\n      <th>1</th>\n      <td>1</td>\n      <td>Maine</td>\n      <td>04/19/2021</td>\n      <td>21060</td>\n      <td>21060</td>\n      <td>15400.0</td>\n      <td>15400.0</td>\n      <td>NaN</td>\n    </tr>\n    <tr>\n      <th>2</th>\n      <td>2</td>\n      <td>Massachusetts</td>\n      <td>04/19/2021</td>\n      <td>105300</td>\n      <td>105300</td>\n      <td>77700.0</td>\n      <td>77700.0</td>\n      <td>NaN</td>\n    </tr>\n    <tr>\n      <th>3</th>\n      <td>3</td>\n      <td>New Hampshire</td>\n      <td>04/19/2021</td>\n      <td>21060</td>\n      <td>21060</td>\n      <td>15500.0</td>\n      <td>15500.0</td>\n      <td>NaN</td>\n    </tr>\n    <tr>\n      <th>4</th>\n      <td>4</td>\n      <td>Rhode Island</td>\n      <td>04/19/2021</td>\n      <td>16380</td>\n      <td>16380</td>\n      <td>12100.0</td>\n      <td>12100.0</td>\n      <td>NaN</td>\n    </tr>\n  </tbody>\n</table>\n</div>"
     },
     "metadata": {},
     "execution_count": 27
    }
   ],
   "source": [
    "# Load Combined Vaccination Allocation Data that incorporated the following files\n",
    "    # COVID-19_Vaccine_Distribution_Allocations_by_Jurisdiction_-_Pfizer.csv\n",
    "    # COVID-19_Vaccine_Distribution_Allocations_by_Jurisdiction_-_Moderna.csv\n",
    "    # COVID-19_Vaccine_Distribution_Allocations_by_Jurisdiction_-_Janssen.csv\n",
    "    # United_States_COVID-19_Cases_and_Deaths_by_State_over_Time.csv\n",
    "    # state_code.csv\n",
    "\n",
    "Combined_Vaccine_df_path = r\"..\\source_data\\new_dataframes\\Combined_Vaccine_df.csv\"\n",
    "Combined_Vaccine_df = pd.read_csv(Combined_Vaccine_df_path)\n",
    "\n",
    "# print(Combined_Vaccine_df.columns.tolist())\n",
    "\n",
    "\"\"\" \n",
    "Variables in this DataFrame\n",
    "\n",
    "['Unnamed: 0', == Index \n",
    "'Jurisdiction',  == State\n",
    "'Week of Allocations',  == Week of reported allocation data\n",
    "'1st Dose Allocations_x',  == Pfizer Dose 1 Allocation\n",
    "'2nd Dose Allocations_x',  == Pfizer Dose 1 Allocation\n",
    "'1st Dose Allocations_y',  == Moderna Dose 1 Allocation\n",
    "'2nd Dose Allocations_y',  == Moderna Dose 1 Allocation\n",
    "'1st Dose Allocations'] == J&J Allocation\n",
    "\n",
    "\"\"\"\n",
    "\n",
    "Combined_Vaccine_df.head()"
   ]
  },
  {
   "cell_type": "code",
   "execution_count": 28,
   "metadata": {},
   "outputs": [
    {
     "output_type": "execute_result",
     "data": {
      "text/plain": [
       "   Unnamed: 0  Year  Month    Jurisdiction  PFE Dose-1  PFE Dose-2  \\\n",
       "0           0  2020     12         Alabama      108225      108225   \n",
       "1           1  2020     12          Alaska       35100       35100   \n",
       "2           2  2020     12  American Samoa        5850           0   \n",
       "3           3  2020     12         Arizona      154050      154050   \n",
       "4           4  2020     12        Arkansas       67275       67275   \n",
       "\n",
       "   MRNA Dose-1  MRNA Dose-2  JNJ Dose-1  index  ...   tot_cases  conf_cases  \\\n",
       "0     113400.0     113400.0         0.0    641  ...   9513716.0   7781720.0   \n",
       "1      26800.0      26800.0         0.0    642  ...   1241538.0         0.0   \n",
       "2       2400.0          0.0         0.0    643  ...        93.0         0.0   \n",
       "3     160700.0     160700.0         0.0    644  ...  13267357.0  12733646.0   \n",
       "4      68800.0      68800.0         0.0    645  ...   5960217.0         0.0   \n",
       "\n",
       "   prob_cases  new_case  pnew_case  tot_death  conf_death  prob_death  \\\n",
       "0   1731996.0  111702.0    29144.0   131827.0    116236.0     15591.0   \n",
       "1         0.0   14138.0        0.0     5331.0         0.0         0.0   \n",
       "2         0.0       0.0        0.0        0.0         0.0         0.0   \n",
       "3    533711.0  193390.0    15013.0   237324.0    217466.0     19858.0   \n",
       "4         0.0   67779.0    19051.0    95239.0         0.0         0.0   \n",
       "\n",
       "   new_death  pnew_death  \n",
       "0     1249.0       276.0  \n",
       "1       85.0         0.0  \n",
       "2        0.0         0.0  \n",
       "3     2225.0       371.0  \n",
       "4     1174.0       381.0  \n",
       "\n",
       "[5 rows x 21 columns]"
      ],
      "text/html": "<div>\n<style scoped>\n    .dataframe tbody tr th:only-of-type {\n        vertical-align: middle;\n    }\n\n    .dataframe tbody tr th {\n        vertical-align: top;\n    }\n\n    .dataframe thead th {\n        text-align: right;\n    }\n</style>\n<table border=\"1\" class=\"dataframe\">\n  <thead>\n    <tr style=\"text-align: right;\">\n      <th></th>\n      <th>Unnamed: 0</th>\n      <th>Year</th>\n      <th>Month</th>\n      <th>Jurisdiction</th>\n      <th>PFE Dose-1</th>\n      <th>PFE Dose-2</th>\n      <th>MRNA Dose-1</th>\n      <th>MRNA Dose-2</th>\n      <th>JNJ Dose-1</th>\n      <th>index</th>\n      <th>...</th>\n      <th>tot_cases</th>\n      <th>conf_cases</th>\n      <th>prob_cases</th>\n      <th>new_case</th>\n      <th>pnew_case</th>\n      <th>tot_death</th>\n      <th>conf_death</th>\n      <th>prob_death</th>\n      <th>new_death</th>\n      <th>pnew_death</th>\n    </tr>\n  </thead>\n  <tbody>\n    <tr>\n      <th>0</th>\n      <td>0</td>\n      <td>2020</td>\n      <td>12</td>\n      <td>Alabama</td>\n      <td>108225</td>\n      <td>108225</td>\n      <td>113400.0</td>\n      <td>113400.0</td>\n      <td>0.0</td>\n      <td>641</td>\n      <td>...</td>\n      <td>9513716.0</td>\n      <td>7781720.0</td>\n      <td>1731996.0</td>\n      <td>111702.0</td>\n      <td>29144.0</td>\n      <td>131827.0</td>\n      <td>116236.0</td>\n      <td>15591.0</td>\n      <td>1249.0</td>\n      <td>276.0</td>\n    </tr>\n    <tr>\n      <th>1</th>\n      <td>1</td>\n      <td>2020</td>\n      <td>12</td>\n      <td>Alaska</td>\n      <td>35100</td>\n      <td>35100</td>\n      <td>26800.0</td>\n      <td>26800.0</td>\n      <td>0.0</td>\n      <td>642</td>\n      <td>...</td>\n      <td>1241538.0</td>\n      <td>0.0</td>\n      <td>0.0</td>\n      <td>14138.0</td>\n      <td>0.0</td>\n      <td>5331.0</td>\n      <td>0.0</td>\n      <td>0.0</td>\n      <td>85.0</td>\n      <td>0.0</td>\n    </tr>\n    <tr>\n      <th>2</th>\n      <td>2</td>\n      <td>2020</td>\n      <td>12</td>\n      <td>American Samoa</td>\n      <td>5850</td>\n      <td>0</td>\n      <td>2400.0</td>\n      <td>0.0</td>\n      <td>0.0</td>\n      <td>643</td>\n      <td>...</td>\n      <td>93.0</td>\n      <td>0.0</td>\n      <td>0.0</td>\n      <td>0.0</td>\n      <td>0.0</td>\n      <td>0.0</td>\n      <td>0.0</td>\n      <td>0.0</td>\n      <td>0.0</td>\n      <td>0.0</td>\n    </tr>\n    <tr>\n      <th>3</th>\n      <td>3</td>\n      <td>2020</td>\n      <td>12</td>\n      <td>Arizona</td>\n      <td>154050</td>\n      <td>154050</td>\n      <td>160700.0</td>\n      <td>160700.0</td>\n      <td>0.0</td>\n      <td>644</td>\n      <td>...</td>\n      <td>13267357.0</td>\n      <td>12733646.0</td>\n      <td>533711.0</td>\n      <td>193390.0</td>\n      <td>15013.0</td>\n      <td>237324.0</td>\n      <td>217466.0</td>\n      <td>19858.0</td>\n      <td>2225.0</td>\n      <td>371.0</td>\n    </tr>\n    <tr>\n      <th>4</th>\n      <td>4</td>\n      <td>2020</td>\n      <td>12</td>\n      <td>Arkansas</td>\n      <td>67275</td>\n      <td>67275</td>\n      <td>68800.0</td>\n      <td>68800.0</td>\n      <td>0.0</td>\n      <td>645</td>\n      <td>...</td>\n      <td>5960217.0</td>\n      <td>0.0</td>\n      <td>0.0</td>\n      <td>67779.0</td>\n      <td>19051.0</td>\n      <td>95239.0</td>\n      <td>0.0</td>\n      <td>0.0</td>\n      <td>1174.0</td>\n      <td>381.0</td>\n    </tr>\n  </tbody>\n</table>\n<p>5 rows × 21 columns</p>\n</div>"
     },
     "metadata": {},
     "execution_count": 28
    }
   ],
   "source": [
    "# Load merged Combined Vaccination Allocation Data with Case and Death Counts by time\n",
    "    # Combined_Vaccine_df\n",
    "    # c_d_withstate_df\n",
    "\n",
    "merge_CD_pfe_mrna_jnj_path = r\"..\\source_data\\new_dataframes\\merge_CD_pfe_mrna_jnj.csv\"\n",
    "merge_CD_pfe_mrna_jnj_df = pd.read_csv(merge_CD_pfe_mrna_jnj_path)\n",
    "\n",
    "merge_CD_pfe_mrna_jnj_df.head()"
   ]
  },
  {
   "cell_type": "code",
   "execution_count": 29,
   "metadata": {},
   "outputs": [
    {
     "output_type": "stream",
     "name": "stdout",
     "text": [
      "['Unnamed: 0', 'Name', 'Population', 'Median Age', 'Household Income', 'Per Capita Income', 'Poverty Count', 'Poverty Rate', 'Unemployment Count', 'Unemployment Rate']\n"
     ]
    },
    {
     "output_type": "execute_result",
     "data": {
      "text/plain": [
       "   Unnamed: 0        Name  Population  Median Age  Household Income  \\\n",
       "0           0     Alabama   4876250.0        39.0           50536.0   \n",
       "1           1      Alaska    737068.0        34.3           77640.0   \n",
       "2           2     Arizona   7050299.0        37.7           58945.0   \n",
       "3           3    Arkansas   2999370.0        38.1           47597.0   \n",
       "4           4  California  39283497.0        36.5           75235.0   \n",
       "\n",
       "   Per Capita Income  Poverty Count  Poverty Rate  Unemployment Count  \\\n",
       "0            27928.0       795989.0     16.323794            132095.0   \n",
       "1            36787.0        76933.0     10.437707             26808.0   \n",
       "2            30694.0      1043764.0     14.804535            195905.0   \n",
       "3            26577.0       496260.0     16.545475             70481.0   \n",
       "4            36955.0      5149742.0     13.109174           1199233.0   \n",
       "\n",
       "   Unemployment Rate  \n",
       "0           2.708946  \n",
       "1           3.637114  \n",
       "2           2.778676  \n",
       "3           2.349860  \n",
       "4           3.052765  "
      ],
      "text/html": "<div>\n<style scoped>\n    .dataframe tbody tr th:only-of-type {\n        vertical-align: middle;\n    }\n\n    .dataframe tbody tr th {\n        vertical-align: top;\n    }\n\n    .dataframe thead th {\n        text-align: right;\n    }\n</style>\n<table border=\"1\" class=\"dataframe\">\n  <thead>\n    <tr style=\"text-align: right;\">\n      <th></th>\n      <th>Unnamed: 0</th>\n      <th>Name</th>\n      <th>Population</th>\n      <th>Median Age</th>\n      <th>Household Income</th>\n      <th>Per Capita Income</th>\n      <th>Poverty Count</th>\n      <th>Poverty Rate</th>\n      <th>Unemployment Count</th>\n      <th>Unemployment Rate</th>\n    </tr>\n  </thead>\n  <tbody>\n    <tr>\n      <th>0</th>\n      <td>0</td>\n      <td>Alabama</td>\n      <td>4876250.0</td>\n      <td>39.0</td>\n      <td>50536.0</td>\n      <td>27928.0</td>\n      <td>795989.0</td>\n      <td>16.323794</td>\n      <td>132095.0</td>\n      <td>2.708946</td>\n    </tr>\n    <tr>\n      <th>1</th>\n      <td>1</td>\n      <td>Alaska</td>\n      <td>737068.0</td>\n      <td>34.3</td>\n      <td>77640.0</td>\n      <td>36787.0</td>\n      <td>76933.0</td>\n      <td>10.437707</td>\n      <td>26808.0</td>\n      <td>3.637114</td>\n    </tr>\n    <tr>\n      <th>2</th>\n      <td>2</td>\n      <td>Arizona</td>\n      <td>7050299.0</td>\n      <td>37.7</td>\n      <td>58945.0</td>\n      <td>30694.0</td>\n      <td>1043764.0</td>\n      <td>14.804535</td>\n      <td>195905.0</td>\n      <td>2.778676</td>\n    </tr>\n    <tr>\n      <th>3</th>\n      <td>3</td>\n      <td>Arkansas</td>\n      <td>2999370.0</td>\n      <td>38.1</td>\n      <td>47597.0</td>\n      <td>26577.0</td>\n      <td>496260.0</td>\n      <td>16.545475</td>\n      <td>70481.0</td>\n      <td>2.349860</td>\n    </tr>\n    <tr>\n      <th>4</th>\n      <td>4</td>\n      <td>California</td>\n      <td>39283497.0</td>\n      <td>36.5</td>\n      <td>75235.0</td>\n      <td>36955.0</td>\n      <td>5149742.0</td>\n      <td>13.109174</td>\n      <td>1199233.0</td>\n      <td>3.052765</td>\n    </tr>\n  </tbody>\n</table>\n</div>"
     },
     "metadata": {},
     "execution_count": 29
    }
   ],
   "source": [
    "# Load data State Population from Census reports\n",
    "    # Population.csv\n",
    "\n",
    "Population_path = r\"..\\source_data\\new_dataframes\\Population.csv\"\n",
    "population_df = pd.read_csv(Population_path)\n",
    "\n",
    "print(population_df.columns.tolist())\n",
    "\n",
    "\"\"\" \n",
    "Variables in this DataFrame\n",
    "\n",
    "['Unnamed: 0', \n",
    "'Name', \n",
    "'Population', \n",
    "'Median Age', \n",
    "'Household Income', \n",
    "'Per Capita Income', \n",
    "'Poverty Count', \n",
    "'Poverty Rate', \n",
    "'Unemployment Count', \n",
    "'Unemployment Rate']\n",
    "\n",
    "\"\"\"\n",
    "\n",
    "population_df.head()"
   ]
  },
  {
   "source": [
    "# Group 1 - Tarak"
   ],
   "cell_type": "markdown",
   "metadata": {}
  },
  {
   "source": [
    "## Line Plot idea:\n",
    "\n",
    "* x-axis = vaccine allocation date (weekly data, convert dates to week number)\n",
    "    * x-axis labels to be converted to month notches\n",
    "\n",
    "* y-axis = National level: Pfizer 1st dose allocations, Moderna 1st dose allocations, Pfizer 2nd dose allocations, Moderna 2nd dose allocations, J&J allocations\n",
    "    * y-axis data is summation of all states\n",
    "\n",
    "Legend labels = Pfizer 1st dose, Moderna 1st dose, Pfizer 2nd dose, Moderna 2nd dose, J&J Single dose"
   ],
   "cell_type": "markdown",
   "metadata": {}
  },
  {
   "source": [
    "## Line Plot idea:\n",
    "\n",
    "* x-axis = vaccine allocation date (weekly data, convert dates to week number)\n",
    "    * x-axis labels to be converted to month notches\n",
    "\n",
    "* y-axis = AZ State level: Pfizer 1st dose allocations, Moderna 1st dose allocations, Pfizer 2nd dose allocations, Moderna 2nd dose allocations, J&J allocations\n",
    "    * y-axis data is one state only (Arizona)\n",
    "\n",
    "Legend labels = Pfizer 1st dose, Moderna 1st dose, Pfizer 2nd dose, Moderna 2nd dose, J&J Single dose"
   ],
   "cell_type": "markdown",
   "metadata": {}
  },
  {
   "source": [
    "## Bonus Line Plot idea:\n",
    "\n",
    "* x-axis = vaccine allocation date (weekly data, convert dates to week number)\n",
    "    * x-axis labels to be converted to month notches\n",
    "\n",
    "* y-axis = User selected State level: Pfizer 1st dose allocations, Moderna 1st dose allocations, Pfizer 2nd dose allocations, Moderna 2nd dose allocations, J&J allocations\n",
    "    * y-axis data is one state only (user selected)\n",
    "\n",
    "Legend labels = Pfizer 1st dose, Moderna 1st dose, Pfizer 2nd dose, Moderna 2nd dose, J&J Single dose"
   ],
   "cell_type": "markdown",
   "metadata": {}
  },
  {
   "source": [
    "## Line Plot idea:\n",
    "\n",
    "* x-axis = vaccine allocation date (weekly data, convert dates to week number)\n",
    "    * x-axis labels to be converted to month notches\n",
    "\n",
    "* y-axis = National level: cumulative sum 1st dose allocations (Pfizer + Moderna), cumulative sum of 2nd dose allocations (Pfizer + Moderna), J&J"
   ],
   "cell_type": "markdown",
   "metadata": {}
  },
  {
   "source": [
    "# Group 2"
   ],
   "cell_type": "markdown",
   "metadata": {}
  },
  {
   "source": [
    "# Stacked Bar Plot idea:\n",
    "\n",
    "* x-axis = State\n",
    "\n",
    "* y-axis = Pfizer: Cumulative 1st dose allocation, Cumulative 2nd dose allocation, Moderna: Cumulative 1st dose allocation, Cumulative 2nd dose allocation, J&J allocation\n"
   ],
   "cell_type": "markdown",
   "metadata": {}
  },
  {
   "source": [
    "## Stacked Bar Plot idea:\n",
    "\n",
    "Take one of the previous stacked bar plot formats and divide the y-axis bar values by the state's population.\n",
    "\n",
    "* x-axis = State\n",
    "* y-axis =  allocation /  State Population"
   ],
   "cell_type": "markdown",
   "metadata": {}
  },
  {
   "source": [
    "## 3-Figure Stacked Bar Plot idea:\n",
    "\n",
    "* Common x-axis = State\n",
    "\n",
    "* Plot 1 y-axis = Pfizer: Cumulative 1st dose allocation, Cumulative 2nd dose allocation\n",
    "\n",
    "* Plot 2 y-axis = Moderna: Cumulative 1st dose allocation, Cumulative 2nd dose allocation\n",
    "\n",
    "* Plot 3 y-axis = J&J: Cumulative 1st dose allocation, Cumulative 2nd dose allocation\n",
    "\n",
    "https://matplotlib.org/2.0.2/examples/ticks_and_spines/spines_demo.html\n"
   ],
   "cell_type": "markdown",
   "metadata": {}
  },
  {
   "source": [
    "# Group 3 - Nicole"
   ],
   "cell_type": "markdown",
   "metadata": {}
  },
  {
   "source": [
    "## Line Plot idea:\n",
    "\n",
    "* x-axis = Date\n",
    "    * Line 1 Vaccine allocation date\n",
    "    * Line 2 New Deaths report date\n",
    "* y-axis = Quantity\n",
    "    * Line 1 - Left side axis label - Cumulative 2nd dose allocation (include J&J)\n",
    "    * Line 2 - Right side axis label - New deaths\n",
    "\n",
    "https://www.cnbc.com/2021/04/09/covid-19-cases-deaths-vaccinations-daily-update.html\n",
    "\n",
    "Note: Country summary"
   ],
   "cell_type": "markdown",
   "metadata": {}
  },
  {
   "source": [
    "## Line Plot idea:\n",
    "\n",
    "* x-axis = Date\n",
    "    * Line 1 Vaccine allocation date\n",
    "    * Line 2 New Deaths report date\n",
    "* y-axis = Quantity\n",
    "    * Line 1 - Left side axis label - Cumulative 2nd dose allocation (include J&J)\n",
    "    * Line 2 - Right side axis label - New deaths\n",
    "\n",
    "https://www.cnbc.com/2021/04/09/covid-19-cases-deaths-vaccinations-daily-update.html\n",
    "\n",
    "Note: State summary"
   ],
   "cell_type": "markdown",
   "metadata": {}
  },
  {
   "source": [
    "## Scatter Plot idea:\n",
    "\n",
    "A single snapshot in time on the final date where all states have reported (4/17/21).\n",
    "\n",
    "Each scatter point is by state. Need to pair the x, y values for each state.\n",
    "\n",
    "* x-axis = Poverty Rate (Population_df.Poverty Rate)\n",
    "\n",
    "* y-axis = Covid cumulative case count (c_d_with_state_df.tot_cases)\n",
    "\n",
    "Include regression analysis"
   ],
   "cell_type": "markdown",
   "metadata": {}
  },
  {
   "source": [
    "# Merging jupyter notebooks\n",
    "\n",
    "mbmerge"
   ],
   "cell_type": "markdown",
   "metadata": {}
  },
  {
   "cell_type": "code",
   "execution_count": null,
   "metadata": {},
   "outputs": [],
   "source": []
  }
 ]
}