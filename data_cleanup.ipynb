{
 "metadata": {
  "language_info": {
   "codemirror_mode": {
    "name": "ipython",
    "version": 3
   },
   "file_extension": ".py",
   "mimetype": "text/x-python",
   "name": "python",
   "nbconvert_exporter": "python",
   "pygments_lexer": "ipython3",
   "version": "3.7.9"
  },
  "orig_nbformat": 2,
  "kernelspec": {
   "name": "python379jvsc74a57bd0ac5a4a8be39a6f36cb398e11c49d1d11aa42d9028028208279e8ac6ab225301c",
   "display_name": "Python 3.7.9 64-bit ('PythonData': conda)"
  }
 },
 "nbformat": 4,
 "nbformat_minor": 2,
 "cells": [
  {
   "cell_type": "code",
   "execution_count": 4,
   "metadata": {},
   "outputs": [],
   "source": [
    "# Dependencies and Setup\n",
    "import matplotlib.pyplot as plt\n",
    "import numpy as np\n",
    "import pandas as pd\n",
    "import scipy.stats as st\n",
    "from census import Census\n",
    "\n",
    "# Census & gmaps API Keys\n",
    "from config import (api_key)\n",
    "c = Census(api_key, year=2019)\n"
   ]
  },
  {
   "cell_type": "code",
   "execution_count": 6,
   "metadata": {},
   "outputs": [],
   "source": [
    "# Create File Path for three files. \n",
    "csv_pfe =  'source_data/COVID-19_Vaccine_Distribution_Allocations_by_Jurisdiction_-_Pfizer.csv'\n",
    "csv_mrna = 'source_data/COVID-19_Vaccine_Distribution_Allocations_by_Jurisdiction_-_Moderna.csv'\n",
    "csv_jnj =  'source_data/COVID-19_Vaccine_Distribution_Allocations_by_Jurisdiction_-_Janssen.csv'\n",
    "csv_c_d =  'source_data/United_States_COVID-19_Cases_and_Deaths_by_State_over_Time.csv'\n",
    "state_code = 'source_data/state_code.csv'\n",
    "\n",
    "# Create a dataframe for each file.\n",
    "pfe_df = pd.read_csv(csv_pfe)\n",
    "mrna_df = pd.read_csv(csv_mrna)\n",
    "jnj_df = pd.read_csv(csv_jnj)\n",
    "c_d_df = pd.read_csv(csv_c_d)\n",
    "state_code_df = pd.read_csv(state_code)\n"
   ]
  },
  {
   "cell_type": "code",
   "execution_count": 7,
   "metadata": {},
   "outputs": [
    {
     "output_type": "execute_result",
     "data": {
      "text/plain": [
       "       Jurisdiction Week of Allocations  PFE Dose-1  PFE Dose-2  MRNA Dose-1  \\\n",
       "0       Connecticut          04/19/2021       54990       54990      40400.0   \n",
       "1             Maine          04/19/2021       21060       21060      15400.0   \n",
       "2     Massachusetts          04/19/2021      105300      105300      77700.0   \n",
       "3     New Hampshire          04/19/2021       21060       21060      15500.0   \n",
       "4      Rhode Island          04/19/2021       16380       16380      12100.0   \n",
       "...             ...                 ...         ...         ...          ...   \n",
       "1192       Virginia          12/14/2020       72150       72150          0.0   \n",
       "1193     Washington          12/14/2020       62400       62400          0.0   \n",
       "1194  West Virginia          12/14/2020       16575       16575          0.0   \n",
       "1195      Wisconsin          12/14/2020       49725       49725          0.0   \n",
       "1196        Wyoming          12/14/2020        4875        4875          0.0   \n",
       "\n",
       "      MRNA Dose-2  JNJ Dose-1  \n",
       "0         40400.0         0.0  \n",
       "1         15400.0         0.0  \n",
       "2         77700.0         0.0  \n",
       "3         15500.0         0.0  \n",
       "4         12100.0         0.0  \n",
       "...           ...         ...  \n",
       "1192          0.0         0.0  \n",
       "1193          0.0         0.0  \n",
       "1194          0.0         0.0  \n",
       "1195          0.0         0.0  \n",
       "1196          0.0         0.0  \n",
       "\n",
       "[1197 rows x 7 columns]"
      ],
      "text/html": "<div>\n<style scoped>\n    .dataframe tbody tr th:only-of-type {\n        vertical-align: middle;\n    }\n\n    .dataframe tbody tr th {\n        vertical-align: top;\n    }\n\n    .dataframe thead th {\n        text-align: right;\n    }\n</style>\n<table border=\"1\" class=\"dataframe\">\n  <thead>\n    <tr style=\"text-align: right;\">\n      <th></th>\n      <th>Jurisdiction</th>\n      <th>Week of Allocations</th>\n      <th>PFE Dose-1</th>\n      <th>PFE Dose-2</th>\n      <th>MRNA Dose-1</th>\n      <th>MRNA Dose-2</th>\n      <th>JNJ Dose-1</th>\n    </tr>\n  </thead>\n  <tbody>\n    <tr>\n      <th>0</th>\n      <td>Connecticut</td>\n      <td>04/19/2021</td>\n      <td>54990</td>\n      <td>54990</td>\n      <td>40400.0</td>\n      <td>40400.0</td>\n      <td>0.0</td>\n    </tr>\n    <tr>\n      <th>1</th>\n      <td>Maine</td>\n      <td>04/19/2021</td>\n      <td>21060</td>\n      <td>21060</td>\n      <td>15400.0</td>\n      <td>15400.0</td>\n      <td>0.0</td>\n    </tr>\n    <tr>\n      <th>2</th>\n      <td>Massachusetts</td>\n      <td>04/19/2021</td>\n      <td>105300</td>\n      <td>105300</td>\n      <td>77700.0</td>\n      <td>77700.0</td>\n      <td>0.0</td>\n    </tr>\n    <tr>\n      <th>3</th>\n      <td>New Hampshire</td>\n      <td>04/19/2021</td>\n      <td>21060</td>\n      <td>21060</td>\n      <td>15500.0</td>\n      <td>15500.0</td>\n      <td>0.0</td>\n    </tr>\n    <tr>\n      <th>4</th>\n      <td>Rhode Island</td>\n      <td>04/19/2021</td>\n      <td>16380</td>\n      <td>16380</td>\n      <td>12100.0</td>\n      <td>12100.0</td>\n      <td>0.0</td>\n    </tr>\n    <tr>\n      <th>...</th>\n      <td>...</td>\n      <td>...</td>\n      <td>...</td>\n      <td>...</td>\n      <td>...</td>\n      <td>...</td>\n      <td>...</td>\n    </tr>\n    <tr>\n      <th>1192</th>\n      <td>Virginia</td>\n      <td>12/14/2020</td>\n      <td>72150</td>\n      <td>72150</td>\n      <td>0.0</td>\n      <td>0.0</td>\n      <td>0.0</td>\n    </tr>\n    <tr>\n      <th>1193</th>\n      <td>Washington</td>\n      <td>12/14/2020</td>\n      <td>62400</td>\n      <td>62400</td>\n      <td>0.0</td>\n      <td>0.0</td>\n      <td>0.0</td>\n    </tr>\n    <tr>\n      <th>1194</th>\n      <td>West Virginia</td>\n      <td>12/14/2020</td>\n      <td>16575</td>\n      <td>16575</td>\n      <td>0.0</td>\n      <td>0.0</td>\n      <td>0.0</td>\n    </tr>\n    <tr>\n      <th>1195</th>\n      <td>Wisconsin</td>\n      <td>12/14/2020</td>\n      <td>49725</td>\n      <td>49725</td>\n      <td>0.0</td>\n      <td>0.0</td>\n      <td>0.0</td>\n    </tr>\n    <tr>\n      <th>1196</th>\n      <td>Wyoming</td>\n      <td>12/14/2020</td>\n      <td>4875</td>\n      <td>4875</td>\n      <td>0.0</td>\n      <td>0.0</td>\n      <td>0.0</td>\n    </tr>\n  </tbody>\n</table>\n<p>1197 rows × 7 columns</p>\n</div>"
     },
     "metadata": {},
     "execution_count": 7
    }
   ],
   "source": [
    "# Merge pfe and mrna datframe\n",
    "pfe_mrna = pd.merge(pfe_df, mrna_df, on=['Jurisdiction', 'Week of Allocations'], how='outer')\n",
    "pfe_mrna\n",
    "\n",
    "pfe_mrna_jnj = pd.merge(pfe_mrna, jnj_df, on=['Jurisdiction', 'Week of Allocations'], how='outer')\n",
    "pfe_mrna_jnj\n",
    "# pfe_mrna_jnj.to_csv('source_data/new_dataframes/Combined_Vaccine_df.csv')\n",
    "\n",
    "#Rename Columns in the DataFrame and Fill all the NaN with Zero to work with the data\n",
    "pfe_mrna_jnj_final = pfe_mrna_jnj.rename(columns={'1st Dose Allocations_x': 'PFE Dose-1',\n",
    "                                                   '2nd Dose Allocations_x': 'PFE Dose-2',\n",
    "                                                   '1st Dose Allocations_y': 'MRNA Dose-1',\n",
    "                                                   '2nd Dose Allocations_y': 'MRNA Dose-2',\n",
    "                                                   '1st Dose Allocations': 'JNJ Dose-1'\n",
    "                                                   }).fillna(0)\n",
    "\n",
    "pfe_mrna_jnj_final"
   ]
  },
  {
   "cell_type": "code",
   "execution_count": 8,
   "metadata": {},
   "outputs": [
    {
     "output_type": "execute_result",
     "data": {
      "text/plain": [
       "     index  Year  Month  State/District   tot_cases  conf_cases  prob_cases  \\\n",
       "0        3  2020      1         Alabama         0.0         0.0         0.0   \n",
       "1        4  2020      1          Alaska         0.0         0.0         0.0   \n",
       "2        5  2020      1  American Samoa         0.0         0.0         0.0   \n",
       "3        6  2020      1         Arizona         6.0         0.0         0.0   \n",
       "4        7  2020      1        Arkansas         0.0         0.0         0.0   \n",
       "..     ...   ...    ...             ...         ...         ...         ...   \n",
       "907    925  2021      4        Virginia  10779674.0   8405929.0   2373745.0   \n",
       "908    926  2021      4      Washington   6373673.0         0.0         0.0   \n",
       "909    927  2021      4   West Virginia   2470246.0   1951426.0    518820.0   \n",
       "910    928  2021      4       Wisconsin  10942905.0   9922905.0   1020000.0   \n",
       "911    929  2021      4         Wyoming    965921.0    817473.0    148448.0   \n",
       "\n",
       "     new_case  pnew_case  tot_death  conf_death  prob_death  new_death  \\\n",
       "0         0.0        0.0        0.0         0.0         0.0        0.0   \n",
       "1         0.0        0.0        0.0         0.0         0.0        0.0   \n",
       "2         0.0        0.0        0.0         0.0         0.0        0.0   \n",
       "3         1.0        0.0        0.0         0.0         0.0        0.0   \n",
       "4         0.0        0.0        0.0         0.0         0.0        0.0   \n",
       "..        ...        ...        ...         ...         ...        ...   \n",
       "907   25331.0     7326.0   177613.0    148968.0     28645.0      312.0   \n",
       "908   21063.0     3832.0    90416.0         0.0         0.0      133.0   \n",
       "909    6779.0     1930.0    46420.0         0.0         0.0      104.0   \n",
       "910   14908.0     2163.0   125312.0    113347.0     11965.0      107.0   \n",
       "911     957.0      164.0    11922.0     11922.0         0.0        3.0   \n",
       "\n",
       "     pnew_death  \n",
       "0           0.0  \n",
       "1           0.0  \n",
       "2           0.0  \n",
       "3           0.0  \n",
       "4           0.0  \n",
       "..          ...  \n",
       "907        45.0  \n",
       "908         0.0  \n",
       "909        19.0  \n",
       "910        18.0  \n",
       "911         0.0  \n",
       "\n",
       "[912 rows x 14 columns]"
      ],
      "text/html": "<div>\n<style scoped>\n    .dataframe tbody tr th:only-of-type {\n        vertical-align: middle;\n    }\n\n    .dataframe tbody tr th {\n        vertical-align: top;\n    }\n\n    .dataframe thead th {\n        text-align: right;\n    }\n</style>\n<table border=\"1\" class=\"dataframe\">\n  <thead>\n    <tr style=\"text-align: right;\">\n      <th></th>\n      <th>index</th>\n      <th>Year</th>\n      <th>Month</th>\n      <th>State/District</th>\n      <th>tot_cases</th>\n      <th>conf_cases</th>\n      <th>prob_cases</th>\n      <th>new_case</th>\n      <th>pnew_case</th>\n      <th>tot_death</th>\n      <th>conf_death</th>\n      <th>prob_death</th>\n      <th>new_death</th>\n      <th>pnew_death</th>\n    </tr>\n  </thead>\n  <tbody>\n    <tr>\n      <th>0</th>\n      <td>3</td>\n      <td>2020</td>\n      <td>1</td>\n      <td>Alabama</td>\n      <td>0.0</td>\n      <td>0.0</td>\n      <td>0.0</td>\n      <td>0.0</td>\n      <td>0.0</td>\n      <td>0.0</td>\n      <td>0.0</td>\n      <td>0.0</td>\n      <td>0.0</td>\n      <td>0.0</td>\n    </tr>\n    <tr>\n      <th>1</th>\n      <td>4</td>\n      <td>2020</td>\n      <td>1</td>\n      <td>Alaska</td>\n      <td>0.0</td>\n      <td>0.0</td>\n      <td>0.0</td>\n      <td>0.0</td>\n      <td>0.0</td>\n      <td>0.0</td>\n      <td>0.0</td>\n      <td>0.0</td>\n      <td>0.0</td>\n      <td>0.0</td>\n    </tr>\n    <tr>\n      <th>2</th>\n      <td>5</td>\n      <td>2020</td>\n      <td>1</td>\n      <td>American Samoa</td>\n      <td>0.0</td>\n      <td>0.0</td>\n      <td>0.0</td>\n      <td>0.0</td>\n      <td>0.0</td>\n      <td>0.0</td>\n      <td>0.0</td>\n      <td>0.0</td>\n      <td>0.0</td>\n      <td>0.0</td>\n    </tr>\n    <tr>\n      <th>3</th>\n      <td>6</td>\n      <td>2020</td>\n      <td>1</td>\n      <td>Arizona</td>\n      <td>6.0</td>\n      <td>0.0</td>\n      <td>0.0</td>\n      <td>1.0</td>\n      <td>0.0</td>\n      <td>0.0</td>\n      <td>0.0</td>\n      <td>0.0</td>\n      <td>0.0</td>\n      <td>0.0</td>\n    </tr>\n    <tr>\n      <th>4</th>\n      <td>7</td>\n      <td>2020</td>\n      <td>1</td>\n      <td>Arkansas</td>\n      <td>0.0</td>\n      <td>0.0</td>\n      <td>0.0</td>\n      <td>0.0</td>\n      <td>0.0</td>\n      <td>0.0</td>\n      <td>0.0</td>\n      <td>0.0</td>\n      <td>0.0</td>\n      <td>0.0</td>\n    </tr>\n    <tr>\n      <th>...</th>\n      <td>...</td>\n      <td>...</td>\n      <td>...</td>\n      <td>...</td>\n      <td>...</td>\n      <td>...</td>\n      <td>...</td>\n      <td>...</td>\n      <td>...</td>\n      <td>...</td>\n      <td>...</td>\n      <td>...</td>\n      <td>...</td>\n      <td>...</td>\n    </tr>\n    <tr>\n      <th>907</th>\n      <td>925</td>\n      <td>2021</td>\n      <td>4</td>\n      <td>Virginia</td>\n      <td>10779674.0</td>\n      <td>8405929.0</td>\n      <td>2373745.0</td>\n      <td>25331.0</td>\n      <td>7326.0</td>\n      <td>177613.0</td>\n      <td>148968.0</td>\n      <td>28645.0</td>\n      <td>312.0</td>\n      <td>45.0</td>\n    </tr>\n    <tr>\n      <th>908</th>\n      <td>926</td>\n      <td>2021</td>\n      <td>4</td>\n      <td>Washington</td>\n      <td>6373673.0</td>\n      <td>0.0</td>\n      <td>0.0</td>\n      <td>21063.0</td>\n      <td>3832.0</td>\n      <td>90416.0</td>\n      <td>0.0</td>\n      <td>0.0</td>\n      <td>133.0</td>\n      <td>0.0</td>\n    </tr>\n    <tr>\n      <th>909</th>\n      <td>927</td>\n      <td>2021</td>\n      <td>4</td>\n      <td>West Virginia</td>\n      <td>2470246.0</td>\n      <td>1951426.0</td>\n      <td>518820.0</td>\n      <td>6779.0</td>\n      <td>1930.0</td>\n      <td>46420.0</td>\n      <td>0.0</td>\n      <td>0.0</td>\n      <td>104.0</td>\n      <td>19.0</td>\n    </tr>\n    <tr>\n      <th>910</th>\n      <td>928</td>\n      <td>2021</td>\n      <td>4</td>\n      <td>Wisconsin</td>\n      <td>10942905.0</td>\n      <td>9922905.0</td>\n      <td>1020000.0</td>\n      <td>14908.0</td>\n      <td>2163.0</td>\n      <td>125312.0</td>\n      <td>113347.0</td>\n      <td>11965.0</td>\n      <td>107.0</td>\n      <td>18.0</td>\n    </tr>\n    <tr>\n      <th>911</th>\n      <td>929</td>\n      <td>2021</td>\n      <td>4</td>\n      <td>Wyoming</td>\n      <td>965921.0</td>\n      <td>817473.0</td>\n      <td>148448.0</td>\n      <td>957.0</td>\n      <td>164.0</td>\n      <td>11922.0</td>\n      <td>11922.0</td>\n      <td>0.0</td>\n      <td>3.0</td>\n      <td>0.0</td>\n    </tr>\n  </tbody>\n</table>\n<p>912 rows × 14 columns</p>\n</div>"
     },
     "metadata": {},
     "execution_count": 8
    }
   ],
   "source": [
    "# merge state codes with the Cases and Death DF to get the State/District Name from the file. and fill all the null values with a Zero\n",
    "m_c_d_df = pd.merge(c_d_df, state_code_df, left_on='state', right_on='Postal Code', how='outer').fillna(0)\n",
    "m_c_d_df\n",
    "\n",
    "# Create a new column for months and Year.\n",
    "m_c_d_df['Month'] = pd.DatetimeIndex(m_c_d_df['submission_date']).month\n",
    "m_c_d_df['Year'] = pd.DatetimeIndex(m_c_d_df['submission_date']).year\n",
    "# m_c_d_df.to_csv('source_data/new_dataframes/c_d_withstate_df.csv')\n",
    "\n",
    "# create a new groupby DataFrame to sum by year, month and state. \n",
    "group_c_d_df = m_c_d_df.groupby(['Year', 'Month', 'State/District']).sum().reset_index()\n",
    "# group_c_d_df\n",
    "\n",
    "#Then Reset Index so a wrong data can be removed\n",
    "c_d_f_final = group_c_d_df[(group_c_d_df['Year'] != 1970) & (group_c_d_df['State/District'] != 0)].reset_index()\n",
    "c_d_f_final\n",
    "\n"
   ]
  },
  {
   "cell_type": "code",
   "execution_count": 9,
   "metadata": {},
   "outputs": [
    {
     "output_type": "execute_result",
     "data": {
      "text/plain": [
       "     Year  Month    Jurisdiction  PFE Dose-1  PFE Dose-2  MRNA Dose-1  \\\n",
       "0    2020     12         Alabama      108225      108225     113400.0   \n",
       "1    2020     12          Alaska       35100       35100      26800.0   \n",
       "2    2020     12  American Samoa        5850           0       2400.0   \n",
       "3    2020     12         Arizona      154050      154050     160700.0   \n",
       "4    2020     12        Arkansas       67275       67275      68800.0   \n",
       "..    ...    ...             ...         ...         ...          ...   \n",
       "310  2021      4        Virginia      358020      358020     266300.0   \n",
       "311  2021      4      Washington      313560      313560     233100.0   \n",
       "312  2021      4   West Virginia       80730       80730      59400.0   \n",
       "313  2021      4       Wisconsin      246870      246870     183800.0   \n",
       "314  2021      4         Wyoming       25740       25740      18200.0   \n",
       "\n",
       "     MRNA Dose-2  JNJ Dose-1  \n",
       "0       113400.0         0.0  \n",
       "1        26800.0         0.0  \n",
       "2            0.0         0.0  \n",
       "3       160700.0         0.0  \n",
       "4        68800.0         0.0  \n",
       "..           ...         ...  \n",
       "310     266300.0    139500.0  \n",
       "311     233100.0    121900.0  \n",
       "312      59400.0     31100.0  \n",
       "313     183800.0     96100.0  \n",
       "314      18200.0      9500.0  \n",
       "\n",
       "[315 rows x 8 columns]"
      ],
      "text/html": "<div>\n<style scoped>\n    .dataframe tbody tr th:only-of-type {\n        vertical-align: middle;\n    }\n\n    .dataframe tbody tr th {\n        vertical-align: top;\n    }\n\n    .dataframe thead th {\n        text-align: right;\n    }\n</style>\n<table border=\"1\" class=\"dataframe\">\n  <thead>\n    <tr style=\"text-align: right;\">\n      <th></th>\n      <th>Year</th>\n      <th>Month</th>\n      <th>Jurisdiction</th>\n      <th>PFE Dose-1</th>\n      <th>PFE Dose-2</th>\n      <th>MRNA Dose-1</th>\n      <th>MRNA Dose-2</th>\n      <th>JNJ Dose-1</th>\n    </tr>\n  </thead>\n  <tbody>\n    <tr>\n      <th>0</th>\n      <td>2020</td>\n      <td>12</td>\n      <td>Alabama</td>\n      <td>108225</td>\n      <td>108225</td>\n      <td>113400.0</td>\n      <td>113400.0</td>\n      <td>0.0</td>\n    </tr>\n    <tr>\n      <th>1</th>\n      <td>2020</td>\n      <td>12</td>\n      <td>Alaska</td>\n      <td>35100</td>\n      <td>35100</td>\n      <td>26800.0</td>\n      <td>26800.0</td>\n      <td>0.0</td>\n    </tr>\n    <tr>\n      <th>2</th>\n      <td>2020</td>\n      <td>12</td>\n      <td>American Samoa</td>\n      <td>5850</td>\n      <td>0</td>\n      <td>2400.0</td>\n      <td>0.0</td>\n      <td>0.0</td>\n    </tr>\n    <tr>\n      <th>3</th>\n      <td>2020</td>\n      <td>12</td>\n      <td>Arizona</td>\n      <td>154050</td>\n      <td>154050</td>\n      <td>160700.0</td>\n      <td>160700.0</td>\n      <td>0.0</td>\n    </tr>\n    <tr>\n      <th>4</th>\n      <td>2020</td>\n      <td>12</td>\n      <td>Arkansas</td>\n      <td>67275</td>\n      <td>67275</td>\n      <td>68800.0</td>\n      <td>68800.0</td>\n      <td>0.0</td>\n    </tr>\n    <tr>\n      <th>...</th>\n      <td>...</td>\n      <td>...</td>\n      <td>...</td>\n      <td>...</td>\n      <td>...</td>\n      <td>...</td>\n      <td>...</td>\n      <td>...</td>\n    </tr>\n    <tr>\n      <th>310</th>\n      <td>2021</td>\n      <td>4</td>\n      <td>Virginia</td>\n      <td>358020</td>\n      <td>358020</td>\n      <td>266300.0</td>\n      <td>266300.0</td>\n      <td>139500.0</td>\n    </tr>\n    <tr>\n      <th>311</th>\n      <td>2021</td>\n      <td>4</td>\n      <td>Washington</td>\n      <td>313560</td>\n      <td>313560</td>\n      <td>233100.0</td>\n      <td>233100.0</td>\n      <td>121900.0</td>\n    </tr>\n    <tr>\n      <th>312</th>\n      <td>2021</td>\n      <td>4</td>\n      <td>West Virginia</td>\n      <td>80730</td>\n      <td>80730</td>\n      <td>59400.0</td>\n      <td>59400.0</td>\n      <td>31100.0</td>\n    </tr>\n    <tr>\n      <th>313</th>\n      <td>2021</td>\n      <td>4</td>\n      <td>Wisconsin</td>\n      <td>246870</td>\n      <td>246870</td>\n      <td>183800.0</td>\n      <td>183800.0</td>\n      <td>96100.0</td>\n    </tr>\n    <tr>\n      <th>314</th>\n      <td>2021</td>\n      <td>4</td>\n      <td>Wyoming</td>\n      <td>25740</td>\n      <td>25740</td>\n      <td>18200.0</td>\n      <td>18200.0</td>\n      <td>9500.0</td>\n    </tr>\n  </tbody>\n</table>\n<p>315 rows × 8 columns</p>\n</div>"
     },
     "metadata": {},
     "execution_count": 9
    }
   ],
   "source": [
    "# Preparing pfe_mrna_jnj_final Dataframe to merge with c_d_f_final\n",
    "\n",
    "pfe_mrna_jnj_final['Month'] = pd.DatetimeIndex(pfe_mrna_jnj_final['Week of Allocations']).month \n",
    "pfe_mrna_jnj_final['Year'] = pd.DatetimeIndex(pfe_mrna_jnj_final['Week of Allocations']).year \n",
    "pfe_mrna_jnj_groupsum = pfe_mrna_jnj_final.groupby(['Year', 'Month', 'Jurisdiction']).sum().reset_index()\n",
    "pfe_mrna_jnj_groupsum\n"
   ]
  },
  {
   "cell_type": "code",
   "execution_count": 10,
   "metadata": {},
   "outputs": [
    {
     "output_type": "execute_result",
     "data": {
      "text/plain": [
       "     Year  Month    Jurisdiction  PFE Dose-1  PFE Dose-2  MRNA Dose-1  \\\n",
       "0    2020     12         Alabama      108225      108225     113400.0   \n",
       "1    2020     12          Alaska       35100       35100      26800.0   \n",
       "2    2020     12  American Samoa        5850           0       2400.0   \n",
       "3    2020     12         Arizona      154050      154050     160700.0   \n",
       "4    2020     12        Arkansas       67275       67275      68800.0   \n",
       "..    ...    ...             ...         ...         ...          ...   \n",
       "270  2021      4        Virginia      358020      358020     266300.0   \n",
       "271  2021      4      Washington      313560      313560     233100.0   \n",
       "272  2021      4   West Virginia       80730       80730      59400.0   \n",
       "273  2021      4       Wisconsin      246870      246870     183800.0   \n",
       "274  2021      4         Wyoming       25740       25740      18200.0   \n",
       "\n",
       "     MRNA Dose-2  JNJ Dose-1  index  State/District   tot_cases  conf_cases  \\\n",
       "0       113400.0         0.0    641         Alabama   9513716.0   7781720.0   \n",
       "1        26800.0         0.0    642          Alaska   1241538.0         0.0   \n",
       "2            0.0         0.0    643  American Samoa        93.0         0.0   \n",
       "3       160700.0         0.0    644         Arizona  13267357.0  12733646.0   \n",
       "4        68800.0         0.0    645        Arkansas   5960217.0         0.0   \n",
       "..           ...         ...    ...             ...         ...         ...   \n",
       "270     266300.0    139500.0    925        Virginia  10779674.0   8405929.0   \n",
       "271     233100.0    121900.0    926      Washington   6373673.0         0.0   \n",
       "272      59400.0     31100.0    927   West Virginia   2470246.0   1951426.0   \n",
       "273     183800.0     96100.0    928       Wisconsin  10942905.0   9922905.0   \n",
       "274      18200.0      9500.0    929         Wyoming    965921.0    817473.0   \n",
       "\n",
       "     prob_cases  new_case  pnew_case  tot_death  conf_death  prob_death  \\\n",
       "0     1731996.0  111702.0    29144.0   131827.0    116236.0     15591.0   \n",
       "1           0.0   14138.0        0.0     5331.0         0.0         0.0   \n",
       "2           0.0       0.0        0.0        0.0         0.0         0.0   \n",
       "3      533711.0  193390.0    15013.0   237324.0    217466.0     19858.0   \n",
       "4           0.0   67779.0    19051.0    95239.0         0.0         0.0   \n",
       "..          ...       ...        ...        ...         ...         ...   \n",
       "270   2373745.0   25331.0     7326.0   177613.0    148968.0     28645.0   \n",
       "271         0.0   21063.0     3832.0    90416.0         0.0         0.0   \n",
       "272    518820.0    6779.0     1930.0    46420.0         0.0         0.0   \n",
       "273   1020000.0   14908.0     2163.0   125312.0    113347.0     11965.0   \n",
       "274    148448.0     957.0      164.0    11922.0     11922.0         0.0   \n",
       "\n",
       "     new_death  pnew_death  \n",
       "0       1249.0       276.0  \n",
       "1         85.0         0.0  \n",
       "2          0.0         0.0  \n",
       "3       2225.0       371.0  \n",
       "4       1174.0       381.0  \n",
       "..         ...         ...  \n",
       "270      312.0        45.0  \n",
       "271      133.0         0.0  \n",
       "272      104.0        19.0  \n",
       "273      107.0        18.0  \n",
       "274        3.0         0.0  \n",
       "\n",
       "[275 rows x 20 columns]"
      ],
      "text/html": "<div>\n<style scoped>\n    .dataframe tbody tr th:only-of-type {\n        vertical-align: middle;\n    }\n\n    .dataframe tbody tr th {\n        vertical-align: top;\n    }\n\n    .dataframe thead th {\n        text-align: right;\n    }\n</style>\n<table border=\"1\" class=\"dataframe\">\n  <thead>\n    <tr style=\"text-align: right;\">\n      <th></th>\n      <th>Year</th>\n      <th>Month</th>\n      <th>Jurisdiction</th>\n      <th>PFE Dose-1</th>\n      <th>PFE Dose-2</th>\n      <th>MRNA Dose-1</th>\n      <th>MRNA Dose-2</th>\n      <th>JNJ Dose-1</th>\n      <th>index</th>\n      <th>State/District</th>\n      <th>tot_cases</th>\n      <th>conf_cases</th>\n      <th>prob_cases</th>\n      <th>new_case</th>\n      <th>pnew_case</th>\n      <th>tot_death</th>\n      <th>conf_death</th>\n      <th>prob_death</th>\n      <th>new_death</th>\n      <th>pnew_death</th>\n    </tr>\n  </thead>\n  <tbody>\n    <tr>\n      <th>0</th>\n      <td>2020</td>\n      <td>12</td>\n      <td>Alabama</td>\n      <td>108225</td>\n      <td>108225</td>\n      <td>113400.0</td>\n      <td>113400.0</td>\n      <td>0.0</td>\n      <td>641</td>\n      <td>Alabama</td>\n      <td>9513716.0</td>\n      <td>7781720.0</td>\n      <td>1731996.0</td>\n      <td>111702.0</td>\n      <td>29144.0</td>\n      <td>131827.0</td>\n      <td>116236.0</td>\n      <td>15591.0</td>\n      <td>1249.0</td>\n      <td>276.0</td>\n    </tr>\n    <tr>\n      <th>1</th>\n      <td>2020</td>\n      <td>12</td>\n      <td>Alaska</td>\n      <td>35100</td>\n      <td>35100</td>\n      <td>26800.0</td>\n      <td>26800.0</td>\n      <td>0.0</td>\n      <td>642</td>\n      <td>Alaska</td>\n      <td>1241538.0</td>\n      <td>0.0</td>\n      <td>0.0</td>\n      <td>14138.0</td>\n      <td>0.0</td>\n      <td>5331.0</td>\n      <td>0.0</td>\n      <td>0.0</td>\n      <td>85.0</td>\n      <td>0.0</td>\n    </tr>\n    <tr>\n      <th>2</th>\n      <td>2020</td>\n      <td>12</td>\n      <td>American Samoa</td>\n      <td>5850</td>\n      <td>0</td>\n      <td>2400.0</td>\n      <td>0.0</td>\n      <td>0.0</td>\n      <td>643</td>\n      <td>American Samoa</td>\n      <td>93.0</td>\n      <td>0.0</td>\n      <td>0.0</td>\n      <td>0.0</td>\n      <td>0.0</td>\n      <td>0.0</td>\n      <td>0.0</td>\n      <td>0.0</td>\n      <td>0.0</td>\n      <td>0.0</td>\n    </tr>\n    <tr>\n      <th>3</th>\n      <td>2020</td>\n      <td>12</td>\n      <td>Arizona</td>\n      <td>154050</td>\n      <td>154050</td>\n      <td>160700.0</td>\n      <td>160700.0</td>\n      <td>0.0</td>\n      <td>644</td>\n      <td>Arizona</td>\n      <td>13267357.0</td>\n      <td>12733646.0</td>\n      <td>533711.0</td>\n      <td>193390.0</td>\n      <td>15013.0</td>\n      <td>237324.0</td>\n      <td>217466.0</td>\n      <td>19858.0</td>\n      <td>2225.0</td>\n      <td>371.0</td>\n    </tr>\n    <tr>\n      <th>4</th>\n      <td>2020</td>\n      <td>12</td>\n      <td>Arkansas</td>\n      <td>67275</td>\n      <td>67275</td>\n      <td>68800.0</td>\n      <td>68800.0</td>\n      <td>0.0</td>\n      <td>645</td>\n      <td>Arkansas</td>\n      <td>5960217.0</td>\n      <td>0.0</td>\n      <td>0.0</td>\n      <td>67779.0</td>\n      <td>19051.0</td>\n      <td>95239.0</td>\n      <td>0.0</td>\n      <td>0.0</td>\n      <td>1174.0</td>\n      <td>381.0</td>\n    </tr>\n    <tr>\n      <th>...</th>\n      <td>...</td>\n      <td>...</td>\n      <td>...</td>\n      <td>...</td>\n      <td>...</td>\n      <td>...</td>\n      <td>...</td>\n      <td>...</td>\n      <td>...</td>\n      <td>...</td>\n      <td>...</td>\n      <td>...</td>\n      <td>...</td>\n      <td>...</td>\n      <td>...</td>\n      <td>...</td>\n      <td>...</td>\n      <td>...</td>\n      <td>...</td>\n      <td>...</td>\n    </tr>\n    <tr>\n      <th>270</th>\n      <td>2021</td>\n      <td>4</td>\n      <td>Virginia</td>\n      <td>358020</td>\n      <td>358020</td>\n      <td>266300.0</td>\n      <td>266300.0</td>\n      <td>139500.0</td>\n      <td>925</td>\n      <td>Virginia</td>\n      <td>10779674.0</td>\n      <td>8405929.0</td>\n      <td>2373745.0</td>\n      <td>25331.0</td>\n      <td>7326.0</td>\n      <td>177613.0</td>\n      <td>148968.0</td>\n      <td>28645.0</td>\n      <td>312.0</td>\n      <td>45.0</td>\n    </tr>\n    <tr>\n      <th>271</th>\n      <td>2021</td>\n      <td>4</td>\n      <td>Washington</td>\n      <td>313560</td>\n      <td>313560</td>\n      <td>233100.0</td>\n      <td>233100.0</td>\n      <td>121900.0</td>\n      <td>926</td>\n      <td>Washington</td>\n      <td>6373673.0</td>\n      <td>0.0</td>\n      <td>0.0</td>\n      <td>21063.0</td>\n      <td>3832.0</td>\n      <td>90416.0</td>\n      <td>0.0</td>\n      <td>0.0</td>\n      <td>133.0</td>\n      <td>0.0</td>\n    </tr>\n    <tr>\n      <th>272</th>\n      <td>2021</td>\n      <td>4</td>\n      <td>West Virginia</td>\n      <td>80730</td>\n      <td>80730</td>\n      <td>59400.0</td>\n      <td>59400.0</td>\n      <td>31100.0</td>\n      <td>927</td>\n      <td>West Virginia</td>\n      <td>2470246.0</td>\n      <td>1951426.0</td>\n      <td>518820.0</td>\n      <td>6779.0</td>\n      <td>1930.0</td>\n      <td>46420.0</td>\n      <td>0.0</td>\n      <td>0.0</td>\n      <td>104.0</td>\n      <td>19.0</td>\n    </tr>\n    <tr>\n      <th>273</th>\n      <td>2021</td>\n      <td>4</td>\n      <td>Wisconsin</td>\n      <td>246870</td>\n      <td>246870</td>\n      <td>183800.0</td>\n      <td>183800.0</td>\n      <td>96100.0</td>\n      <td>928</td>\n      <td>Wisconsin</td>\n      <td>10942905.0</td>\n      <td>9922905.0</td>\n      <td>1020000.0</td>\n      <td>14908.0</td>\n      <td>2163.0</td>\n      <td>125312.0</td>\n      <td>113347.0</td>\n      <td>11965.0</td>\n      <td>107.0</td>\n      <td>18.0</td>\n    </tr>\n    <tr>\n      <th>274</th>\n      <td>2021</td>\n      <td>4</td>\n      <td>Wyoming</td>\n      <td>25740</td>\n      <td>25740</td>\n      <td>18200.0</td>\n      <td>18200.0</td>\n      <td>9500.0</td>\n      <td>929</td>\n      <td>Wyoming</td>\n      <td>965921.0</td>\n      <td>817473.0</td>\n      <td>148448.0</td>\n      <td>957.0</td>\n      <td>164.0</td>\n      <td>11922.0</td>\n      <td>11922.0</td>\n      <td>0.0</td>\n      <td>3.0</td>\n      <td>0.0</td>\n    </tr>\n  </tbody>\n</table>\n<p>275 rows × 20 columns</p>\n</div>"
     },
     "metadata": {},
     "execution_count": 10
    }
   ],
   "source": [
    "# Merging two pfe_mrna_jnj_final and c_d_f_final. This will be useful for final analysis of New case vs the doses administered.\n",
    "\n",
    "merge_CD_pfe_mrna_jnj = pd.merge(pfe_mrna_jnj_groupsum, c_d_f_final, left_on=['Year', 'Month', 'Jurisdiction'], right_on=['Year', 'Month', 'State/District'], how='inner')\n",
    "\n",
    "# merge_CD_pfe_mrna_jnj.to_csv('source_data/new_dataframes/merge_CD_pfe_mrna_jnj.csv')\n",
    "\n",
    "merge_CD_pfe_mrna_jnj\n"
   ]
  },
  {
   "cell_type": "code",
   "execution_count": 15,
   "metadata": {},
   "outputs": [
    {
     "output_type": "stream",
     "name": "stdout",
     "text": [
      "52\n"
     ]
    },
    {
     "output_type": "execute_result",
     "data": {
      "text/plain": [
       "         Name  Population  Median Age  Household Income  Per Capita Income  \\\n",
       "0     Alabama   4876250.0        39.0           50536.0            27928.0   \n",
       "1      Alaska    737068.0        34.3           77640.0            36787.0   \n",
       "2     Arizona   7050299.0        37.7           58945.0            30694.0   \n",
       "3    Arkansas   2999370.0        38.1           47597.0            26577.0   \n",
       "4  California  39283497.0        36.5           75235.0            36955.0   \n",
       "\n",
       "   Poverty Count  Poverty Rate  Unemployment Count  Unemployment Rate  \n",
       "0       795989.0     16.323794            132095.0           2.708946  \n",
       "1        76933.0     10.437707             26808.0           3.637114  \n",
       "2      1043764.0     14.804535            195905.0           2.778676  \n",
       "3       496260.0     16.545475             70481.0           2.349860  \n",
       "4      5149742.0     13.109174           1199233.0           3.052765  "
      ],
      "text/html": "<div>\n<style scoped>\n    .dataframe tbody tr th:only-of-type {\n        vertical-align: middle;\n    }\n\n    .dataframe tbody tr th {\n        vertical-align: top;\n    }\n\n    .dataframe thead th {\n        text-align: right;\n    }\n</style>\n<table border=\"1\" class=\"dataframe\">\n  <thead>\n    <tr style=\"text-align: right;\">\n      <th></th>\n      <th>Name</th>\n      <th>Population</th>\n      <th>Median Age</th>\n      <th>Household Income</th>\n      <th>Per Capita Income</th>\n      <th>Poverty Count</th>\n      <th>Poverty Rate</th>\n      <th>Unemployment Count</th>\n      <th>Unemployment Rate</th>\n    </tr>\n  </thead>\n  <tbody>\n    <tr>\n      <th>0</th>\n      <td>Alabama</td>\n      <td>4876250.0</td>\n      <td>39.0</td>\n      <td>50536.0</td>\n      <td>27928.0</td>\n      <td>795989.0</td>\n      <td>16.323794</td>\n      <td>132095.0</td>\n      <td>2.708946</td>\n    </tr>\n    <tr>\n      <th>1</th>\n      <td>Alaska</td>\n      <td>737068.0</td>\n      <td>34.3</td>\n      <td>77640.0</td>\n      <td>36787.0</td>\n      <td>76933.0</td>\n      <td>10.437707</td>\n      <td>26808.0</td>\n      <td>3.637114</td>\n    </tr>\n    <tr>\n      <th>2</th>\n      <td>Arizona</td>\n      <td>7050299.0</td>\n      <td>37.7</td>\n      <td>58945.0</td>\n      <td>30694.0</td>\n      <td>1043764.0</td>\n      <td>14.804535</td>\n      <td>195905.0</td>\n      <td>2.778676</td>\n    </tr>\n    <tr>\n      <th>3</th>\n      <td>Arkansas</td>\n      <td>2999370.0</td>\n      <td>38.1</td>\n      <td>47597.0</td>\n      <td>26577.0</td>\n      <td>496260.0</td>\n      <td>16.545475</td>\n      <td>70481.0</td>\n      <td>2.349860</td>\n    </tr>\n    <tr>\n      <th>4</th>\n      <td>California</td>\n      <td>39283497.0</td>\n      <td>36.5</td>\n      <td>75235.0</td>\n      <td>36955.0</td>\n      <td>5149742.0</td>\n      <td>13.109174</td>\n      <td>1199233.0</td>\n      <td>3.052765</td>\n    </tr>\n  </tbody>\n</table>\n</div>"
     },
     "metadata": {},
     "execution_count": 15
    }
   ],
   "source": [
    "# Run Census Search to retrieve data on all zip codes (2013 ACS5 Census)\n",
    "# See: https://github.com/CommerceDataService/census-wrapper for library documentation\n",
    "# See: https://gist.github.com/afhaque/60558290d6efd892351c4b64e5c01e9b for labels\n",
    "census_data = c.acs5.get((\"NAME\", \"B19013_001E\", \"B01003_001E\", \"B01002_001E\",\n",
    "                          \"B19301_001E\",\n",
    "                          \"B17001_002E\", \"B23025_005E\"), {'for': 'state:*'})\n",
    "\n",
    "# Convert to DataFrame\n",
    "census_pd = pd.DataFrame(census_data)\n",
    "\n",
    "# Column Reordering\n",
    "census_pd = census_pd.rename(columns={\n",
    "                                      \"B01003_001E\": \"Population\",\n",
    "                                      \"B01002_001E\": \"Median Age\",\n",
    "                                      \"B19013_001E\": \"Household Income\",\n",
    "                                      \"B19301_001E\": \"Per Capita Income\",\n",
    "                                      \"B17001_002E\": \"Poverty Count\",\n",
    "                                      \"B23025_005E\": \"Unemployment Count\",\n",
    "                                      \"NAME\": \"Name\", \"state\": \"State\"})\n",
    "\n",
    "# Add in Poverty Rate (Poverty Count / Population)\n",
    "census_pd[\"Poverty Rate\"] = 100 * \\\n",
    "    census_pd[\"Poverty Count\"].astype(\n",
    "        int) / census_pd[\"Population\"].astype(int)\n",
    "\n",
    "census_pd[\"Unemployment Rate\"] = 100 * \\\n",
    "    census_pd[\"Unemployment Count\"].astype(\n",
    "        int) / census_pd[\"Population\"].astype(int)\n",
    "\n",
    "# Final DataFrame\n",
    "census_pd = census_pd[[\"Name\", \"Population\", \"Median Age\", \"Household Income\",\n",
    "                       \"Per Capita Income\", \"Poverty Count\", \"Poverty Rate\", \"Unemployment Count\", \"Unemployment Rate\"]]\n",
    "\n",
    "# Visualize\n",
    "print(len(census_pd))\n",
    "# census_pd.to_csv('source_data/new_dataframes/Population.csv')\n",
    "census_pd.head()"
   ]
  },
  {
   "cell_type": "code",
   "execution_count": null,
   "metadata": {},
   "outputs": [],
   "source": []
  }
 ]
}